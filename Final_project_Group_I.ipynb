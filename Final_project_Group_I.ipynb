{
  "cells": [
    {
      "cell_type": "markdown",
      "metadata": {
        "id": "BOZ8x2Bi-P5U"
      },
      "source": [
        "DNSC 6290: Quantum for Data Analytics Group 1"
      ]
    },
    {
      "cell_type": "markdown",
      "metadata": {
        "id": "GvLZ1Eul-P5U"
      },
      "source": [
        "Manuel Jonathan Chavez Carpio\n",
        "\n",
        "LiWei Huang\n",
        "\n",
        "Zaheer Soleh\n",
        "\n",
        "Xilin Yang\n",
        "\n",
        "Venkata Rithish Sai Reddy Yarasu"
      ]
    },
    {
      "cell_type": "markdown",
      "metadata": {
        "id": "Bwb9vK4X-P5V"
      },
      "source": [
        "# Final Project\n",
        "\n",
        "## Phase I -- building a Classical Machine Learning Model Using a random classifier\n",
        "\n"
      ]
    },
    {
      "cell_type": "markdown",
      "metadata": {
        "id": "GPW4BWFK-P5V"
      },
      "source": [
        "#### Loading the data - Two csv files one for trainin and the other for testing\n",
        "#### train.csv is a subset of the titanic data and will be used to learn if a passinger survived or not\n",
        "#### test.csv is used to validate your answer"
      ]
    },
    {
      "cell_type": "code",
      "execution_count": null,
      "metadata": {
        "id": "ZZe3MBcc-P5V"
      },
      "outputs": [],
      "source": [
        "## Write your code here with comments. You may use what you learned in DMFA (wget) or just use pandas\n",
        "## for pandas you need to uncomment the following statement. put your files in a separate directory (e.g. /data)\n",
        "import pandas as pd\n",
        "train_url = 'https://raw.githubusercontent.com/mredshaw/Titanic_Survival_Prediction/main/data/train.csv'\n",
        "\n",
        "# read CSV file\n",
        "df_train = pd.read_csv(train_url)"
      ]
    },
    {
      "cell_type": "code",
      "execution_count": null,
      "metadata": {
        "id": "4Zgpq5KJ-P5V"
      },
      "outputs": [],
      "source": [
        "test_url = 'https://raw.githubusercontent.com/mredshaw/Titanic_Survival_Prediction/main/data/test.csv'\n",
        "df_test = pd.read_csv(test_url)"
      ]
    },
    {
      "cell_type": "markdown",
      "metadata": {
        "id": "Sqch5cas-P5V"
      },
      "source": [
        "#### Show the structure of both train and test files and Identify their number of rows and columns  \n",
        "##### Hint: you many use if the pandas info method and shape attribute."
      ]
    },
    {
      "cell_type": "code",
      "execution_count": null,
      "metadata": {
        "scrolled": true,
        "tags": [],
        "id": "c3f_2lhn-P5V",
        "outputId": "884548f3-8f08-4ed8-c1b8-44d1b9371002"
      },
      "outputs": [
        {
          "data": {
            "text/plain": [
              "Index(['PassengerId', 'Survived', 'Pclass', 'Name', 'Sex', 'Age', 'SibSp',\n",
              "       'Parch', 'Ticket', 'Fare', 'Cabin', 'Embarked'],\n",
              "      dtype='object')"
            ]
          },
          "execution_count": 3,
          "metadata": {},
          "output_type": "execute_result"
        }
      ],
      "source": [
        "## Write your code here with comments.\n",
        "df_train.columns"
      ]
    },
    {
      "cell_type": "code",
      "execution_count": null,
      "metadata": {
        "id": "u3GTS0zc-P5W",
        "outputId": "a87ca5ae-7669-4f87-f31a-71708f6d23ab"
      },
      "outputs": [
        {
          "data": {
            "text/plain": [
              "PassengerId      int64\n",
              "Survived         int64\n",
              "Pclass           int64\n",
              "Name            object\n",
              "Sex             object\n",
              "Age            float64\n",
              "SibSp            int64\n",
              "Parch            int64\n",
              "Ticket          object\n",
              "Fare           float64\n",
              "Cabin           object\n",
              "Embarked        object\n",
              "dtype: object"
            ]
          },
          "execution_count": 4,
          "metadata": {},
          "output_type": "execute_result"
        }
      ],
      "source": [
        "df_train.dtypes"
      ]
    },
    {
      "cell_type": "code",
      "execution_count": null,
      "metadata": {
        "id": "_W1hmN3V-P5W",
        "outputId": "6c70ecbe-02c7-4ce3-9df7-763c453ef054"
      },
      "outputs": [
        {
          "data": {
            "text/plain": [
              "(891, 12)"
            ]
          },
          "execution_count": 5,
          "metadata": {},
          "output_type": "execute_result"
        }
      ],
      "source": [
        "df_train.shape"
      ]
    },
    {
      "cell_type": "code",
      "execution_count": null,
      "metadata": {
        "id": "bu6emlCN-P5W",
        "outputId": "8ae69030-0d48-4c2d-f748-8f846e210abc"
      },
      "outputs": [
        {
          "data": {
            "text/plain": [
              "Index(['PassengerId', 'Pclass', 'Name', 'Sex', 'Age', 'SibSp', 'Parch',\n",
              "       'Ticket', 'Fare', 'Cabin', 'Embarked'],\n",
              "      dtype='object')"
            ]
          },
          "execution_count": 6,
          "metadata": {},
          "output_type": "execute_result"
        }
      ],
      "source": [
        "df_test.columns"
      ]
    },
    {
      "cell_type": "code",
      "execution_count": null,
      "metadata": {
        "id": "UmGzz2xR-P5W",
        "outputId": "11508f45-5427-482e-e156-e09cc26848a6"
      },
      "outputs": [
        {
          "data": {
            "text/plain": [
              "(418, 11)"
            ]
          },
          "execution_count": 7,
          "metadata": {},
          "output_type": "execute_result"
        }
      ],
      "source": [
        "df_test.shape"
      ]
    },
    {
      "cell_type": "markdown",
      "metadata": {
        "id": "5Ms70O5a-P5W"
      },
      "source": [
        "#### Print the first 5 lines of data from both training and testing data files\n",
        "##### Hint may use the head method\n",
        "##### PassengerId: passenger Id; survived: 0/1 0 no, 1 yes; pclass: ticket class: 1, 2, 3, ...; name: name of the passenger, sex is sex of the passenger: male or female; age numeric with one floating point.\n",
        "##### sibsp: whether the passenger has sibling or spouses in th eship; parch: number of passenger parent and/or kids abroad, Fare: amount passenger paid fo rthe ticket,\n",
        "##### embark: is whether the ship embarkation point is from C:Cherbourg, Q:Quuenstown or S: Southhampton\n"
      ]
    },
    {
      "cell_type": "code",
      "execution_count": null,
      "metadata": {
        "tags": [
          "Raw"
        ],
        "id": "3NK-IetZ-P5W",
        "outputId": "db0eec4e-f4f3-4227-e974-479b30fae961"
      },
      "outputs": [
        {
          "name": "stdout",
          "output_type": "stream",
          "text": [
            "The first 5 lines of Train_data:\n"
          ]
        },
        {
          "data": {
            "text/html": [
              "<div>\n",
              "<style scoped>\n",
              "    .dataframe tbody tr th:only-of-type {\n",
              "        vertical-align: middle;\n",
              "    }\n",
              "\n",
              "    .dataframe tbody tr th {\n",
              "        vertical-align: top;\n",
              "    }\n",
              "\n",
              "    .dataframe thead th {\n",
              "        text-align: right;\n",
              "    }\n",
              "</style>\n",
              "<table border=\"1\" class=\"dataframe\">\n",
              "  <thead>\n",
              "    <tr style=\"text-align: right;\">\n",
              "      <th></th>\n",
              "      <th>PassengerId</th>\n",
              "      <th>Survived</th>\n",
              "      <th>Pclass</th>\n",
              "      <th>Name</th>\n",
              "      <th>Sex</th>\n",
              "      <th>Age</th>\n",
              "      <th>SibSp</th>\n",
              "      <th>Parch</th>\n",
              "      <th>Ticket</th>\n",
              "      <th>Fare</th>\n",
              "      <th>Cabin</th>\n",
              "      <th>Embarked</th>\n",
              "    </tr>\n",
              "  </thead>\n",
              "  <tbody>\n",
              "    <tr>\n",
              "      <th>0</th>\n",
              "      <td>1</td>\n",
              "      <td>0</td>\n",
              "      <td>3</td>\n",
              "      <td>Braund, Mr. Owen Harris</td>\n",
              "      <td>male</td>\n",
              "      <td>22.0</td>\n",
              "      <td>1</td>\n",
              "      <td>0</td>\n",
              "      <td>A/5 21171</td>\n",
              "      <td>7.2500</td>\n",
              "      <td>NaN</td>\n",
              "      <td>S</td>\n",
              "    </tr>\n",
              "    <tr>\n",
              "      <th>1</th>\n",
              "      <td>2</td>\n",
              "      <td>1</td>\n",
              "      <td>1</td>\n",
              "      <td>Cumings, Mrs. John Bradley (Florence Briggs Th...</td>\n",
              "      <td>female</td>\n",
              "      <td>38.0</td>\n",
              "      <td>1</td>\n",
              "      <td>0</td>\n",
              "      <td>PC 17599</td>\n",
              "      <td>71.2833</td>\n",
              "      <td>C85</td>\n",
              "      <td>C</td>\n",
              "    </tr>\n",
              "    <tr>\n",
              "      <th>2</th>\n",
              "      <td>3</td>\n",
              "      <td>1</td>\n",
              "      <td>3</td>\n",
              "      <td>Heikkinen, Miss. Laina</td>\n",
              "      <td>female</td>\n",
              "      <td>26.0</td>\n",
              "      <td>0</td>\n",
              "      <td>0</td>\n",
              "      <td>STON/O2. 3101282</td>\n",
              "      <td>7.9250</td>\n",
              "      <td>NaN</td>\n",
              "      <td>S</td>\n",
              "    </tr>\n",
              "    <tr>\n",
              "      <th>3</th>\n",
              "      <td>4</td>\n",
              "      <td>1</td>\n",
              "      <td>1</td>\n",
              "      <td>Futrelle, Mrs. Jacques Heath (Lily May Peel)</td>\n",
              "      <td>female</td>\n",
              "      <td>35.0</td>\n",
              "      <td>1</td>\n",
              "      <td>0</td>\n",
              "      <td>113803</td>\n",
              "      <td>53.1000</td>\n",
              "      <td>C123</td>\n",
              "      <td>S</td>\n",
              "    </tr>\n",
              "    <tr>\n",
              "      <th>4</th>\n",
              "      <td>5</td>\n",
              "      <td>0</td>\n",
              "      <td>3</td>\n",
              "      <td>Allen, Mr. William Henry</td>\n",
              "      <td>male</td>\n",
              "      <td>35.0</td>\n",
              "      <td>0</td>\n",
              "      <td>0</td>\n",
              "      <td>373450</td>\n",
              "      <td>8.0500</td>\n",
              "      <td>NaN</td>\n",
              "      <td>S</td>\n",
              "    </tr>\n",
              "  </tbody>\n",
              "</table>\n",
              "</div>"
            ],
            "text/plain": [
              "   PassengerId  Survived  Pclass  \\\n",
              "0            1         0       3   \n",
              "1            2         1       1   \n",
              "2            3         1       3   \n",
              "3            4         1       1   \n",
              "4            5         0       3   \n",
              "\n",
              "                                                Name     Sex   Age  SibSp  \\\n",
              "0                            Braund, Mr. Owen Harris    male  22.0      1   \n",
              "1  Cumings, Mrs. John Bradley (Florence Briggs Th...  female  38.0      1   \n",
              "2                             Heikkinen, Miss. Laina  female  26.0      0   \n",
              "3       Futrelle, Mrs. Jacques Heath (Lily May Peel)  female  35.0      1   \n",
              "4                           Allen, Mr. William Henry    male  35.0      0   \n",
              "\n",
              "   Parch            Ticket     Fare Cabin Embarked  \n",
              "0      0         A/5 21171   7.2500   NaN        S  \n",
              "1      0          PC 17599  71.2833   C85        C  \n",
              "2      0  STON/O2. 3101282   7.9250   NaN        S  \n",
              "3      0            113803  53.1000  C123        S  \n",
              "4      0            373450   8.0500   NaN        S  "
            ]
          },
          "execution_count": 8,
          "metadata": {},
          "output_type": "execute_result"
        }
      ],
      "source": [
        "## Write your code here with comments.\n",
        "print(\"The first 5 lines of Train_data:\")\n",
        "df_train.head()"
      ]
    },
    {
      "cell_type": "code",
      "execution_count": null,
      "metadata": {
        "tags": [
          "Raw"
        ],
        "id": "cjR_RUGm-P5X",
        "outputId": "52b70a0b-05f9-4683-bdde-40c3b2b7f767"
      },
      "outputs": [
        {
          "name": "stdout",
          "output_type": "stream",
          "text": [
            "The first 5 lines of Test_data:\n"
          ]
        },
        {
          "data": {
            "text/html": [
              "<div>\n",
              "<style scoped>\n",
              "    .dataframe tbody tr th:only-of-type {\n",
              "        vertical-align: middle;\n",
              "    }\n",
              "\n",
              "    .dataframe tbody tr th {\n",
              "        vertical-align: top;\n",
              "    }\n",
              "\n",
              "    .dataframe thead th {\n",
              "        text-align: right;\n",
              "    }\n",
              "</style>\n",
              "<table border=\"1\" class=\"dataframe\">\n",
              "  <thead>\n",
              "    <tr style=\"text-align: right;\">\n",
              "      <th></th>\n",
              "      <th>PassengerId</th>\n",
              "      <th>Pclass</th>\n",
              "      <th>Name</th>\n",
              "      <th>Sex</th>\n",
              "      <th>Age</th>\n",
              "      <th>SibSp</th>\n",
              "      <th>Parch</th>\n",
              "      <th>Ticket</th>\n",
              "      <th>Fare</th>\n",
              "      <th>Cabin</th>\n",
              "      <th>Embarked</th>\n",
              "    </tr>\n",
              "  </thead>\n",
              "  <tbody>\n",
              "    <tr>\n",
              "      <th>0</th>\n",
              "      <td>892</td>\n",
              "      <td>3</td>\n",
              "      <td>Kelly, Mr. James</td>\n",
              "      <td>male</td>\n",
              "      <td>34.5</td>\n",
              "      <td>0</td>\n",
              "      <td>0</td>\n",
              "      <td>330911</td>\n",
              "      <td>7.8292</td>\n",
              "      <td>NaN</td>\n",
              "      <td>Q</td>\n",
              "    </tr>\n",
              "    <tr>\n",
              "      <th>1</th>\n",
              "      <td>893</td>\n",
              "      <td>3</td>\n",
              "      <td>Wilkes, Mrs. James (Ellen Needs)</td>\n",
              "      <td>female</td>\n",
              "      <td>47.0</td>\n",
              "      <td>1</td>\n",
              "      <td>0</td>\n",
              "      <td>363272</td>\n",
              "      <td>7.0000</td>\n",
              "      <td>NaN</td>\n",
              "      <td>S</td>\n",
              "    </tr>\n",
              "    <tr>\n",
              "      <th>2</th>\n",
              "      <td>894</td>\n",
              "      <td>2</td>\n",
              "      <td>Myles, Mr. Thomas Francis</td>\n",
              "      <td>male</td>\n",
              "      <td>62.0</td>\n",
              "      <td>0</td>\n",
              "      <td>0</td>\n",
              "      <td>240276</td>\n",
              "      <td>9.6875</td>\n",
              "      <td>NaN</td>\n",
              "      <td>Q</td>\n",
              "    </tr>\n",
              "    <tr>\n",
              "      <th>3</th>\n",
              "      <td>895</td>\n",
              "      <td>3</td>\n",
              "      <td>Wirz, Mr. Albert</td>\n",
              "      <td>male</td>\n",
              "      <td>27.0</td>\n",
              "      <td>0</td>\n",
              "      <td>0</td>\n",
              "      <td>315154</td>\n",
              "      <td>8.6625</td>\n",
              "      <td>NaN</td>\n",
              "      <td>S</td>\n",
              "    </tr>\n",
              "    <tr>\n",
              "      <th>4</th>\n",
              "      <td>896</td>\n",
              "      <td>3</td>\n",
              "      <td>Hirvonen, Mrs. Alexander (Helga E Lindqvist)</td>\n",
              "      <td>female</td>\n",
              "      <td>22.0</td>\n",
              "      <td>1</td>\n",
              "      <td>1</td>\n",
              "      <td>3101298</td>\n",
              "      <td>12.2875</td>\n",
              "      <td>NaN</td>\n",
              "      <td>S</td>\n",
              "    </tr>\n",
              "  </tbody>\n",
              "</table>\n",
              "</div>"
            ],
            "text/plain": [
              "   PassengerId  Pclass                                          Name     Sex  \\\n",
              "0          892       3                              Kelly, Mr. James    male   \n",
              "1          893       3              Wilkes, Mrs. James (Ellen Needs)  female   \n",
              "2          894       2                     Myles, Mr. Thomas Francis    male   \n",
              "3          895       3                              Wirz, Mr. Albert    male   \n",
              "4          896       3  Hirvonen, Mrs. Alexander (Helga E Lindqvist)  female   \n",
              "\n",
              "    Age  SibSp  Parch   Ticket     Fare Cabin Embarked  \n",
              "0  34.5      0      0   330911   7.8292   NaN        Q  \n",
              "1  47.0      1      0   363272   7.0000   NaN        S  \n",
              "2  62.0      0      0   240276   9.6875   NaN        Q  \n",
              "3  27.0      0      0   315154   8.6625   NaN        S  \n",
              "4  22.0      1      1  3101298  12.2875   NaN        S  "
            ]
          },
          "execution_count": 9,
          "metadata": {},
          "output_type": "execute_result"
        }
      ],
      "source": [
        "## Write your code here with comments.\n",
        "print(\"The first 5 lines of Test_data:\")\n",
        "df_test.head()"
      ]
    },
    {
      "cell_type": "markdown",
      "metadata": {
        "id": "7Y8STpvN-P5X"
      },
      "source": [
        "#### Answer the question: Are the number of columns are the same in both datasets? if not what is different?"
      ]
    },
    {
      "cell_type": "markdown",
      "metadata": {
        "id": "V837_CcP-P5X"
      },
      "source": [
        "Answer: No, training data has one extra column 'survived' to show if the passenger survived or not with 0 and 1 values"
      ]
    },
    {
      "cell_type": "markdown",
      "metadata": {
        "id": "-EVbcZTw-P5X"
      },
      "source": [
        "## Data Preperation and Wrangling  \n",
        "#### Check your data. This data is categorical and has numbers and text. As we learned in DMFA class this data is messy and need some wrangling and some cleansing\n",
        "#### What is your take about the columns: for example: Embarked, Cabin and Age in terms of missing data. Missing data as we learned before can affect the result of analytical models. Therefore we need to work on them.\n",
        "#### change your data to accomodate the missing values: for example dropping a column with many nulls (NaN) or whether to drop corrsponding rows if the number of nulls are few or\n",
        "#### you could use stistical methods (e.g., averages) to derive the missing values and fill the gap (e.g. age)\n",
        "#### Hint: you may use dropna, drop and fillna methods that pandas library has to change your data."
      ]
    },
    {
      "cell_type": "code",
      "execution_count": null,
      "metadata": {
        "tags": [],
        "id": "7Wx0cJZ3-P5X",
        "outputId": "a2d35b73-b798-4d3c-8661-230e3697fb10"
      },
      "outputs": [
        {
          "data": {
            "text/plain": [
              "PassengerId      0\n",
              "Survived         0\n",
              "Pclass           0\n",
              "Name             0\n",
              "Sex              0\n",
              "Age            177\n",
              "SibSp            0\n",
              "Parch            0\n",
              "Ticket           0\n",
              "Fare             0\n",
              "Cabin          687\n",
              "Embarked         2\n",
              "dtype: int64"
            ]
          },
          "execution_count": 10,
          "metadata": {},
          "output_type": "execute_result"
        }
      ],
      "source": [
        "## Write your code here with comments to solve the missing values issues.\n",
        "df_train.isnull().sum()"
      ]
    },
    {
      "cell_type": "code",
      "execution_count": null,
      "metadata": {
        "id": "KA_V18LG-P5Y"
      },
      "outputs": [],
      "source": [
        "# drop Cabin\n",
        "df_train = df_train.drop(columns=['Cabin'])"
      ]
    },
    {
      "cell_type": "code",
      "execution_count": null,
      "metadata": {
        "id": "wvQpGjPr-P5Y"
      },
      "outputs": [],
      "source": [
        "median_age = df_train['Age'].median()\n",
        "df_train['Age'].fillna(median_age, inplace=True)"
      ]
    },
    {
      "cell_type": "code",
      "execution_count": null,
      "metadata": {
        "id": "g-0y-zmG-P5Y"
      },
      "outputs": [],
      "source": [
        "most_common_embarked = df_train['Embarked'].mode()[0]\n",
        "df_train['Embarked'].fillna(most_common_embarked, inplace=True)"
      ]
    },
    {
      "cell_type": "code",
      "execution_count": null,
      "metadata": {
        "id": "_jjgiOB5-P5Y",
        "outputId": "73bdf663-924a-4df7-8214-97f286469ff3"
      },
      "outputs": [
        {
          "data": {
            "text/plain": [
              "PassengerId    0\n",
              "Survived       0\n",
              "Pclass         0\n",
              "Name           0\n",
              "Sex            0\n",
              "Age            0\n",
              "SibSp          0\n",
              "Parch          0\n",
              "Ticket         0\n",
              "Fare           0\n",
              "Embarked       0\n",
              "dtype: int64"
            ]
          },
          "execution_count": 14,
          "metadata": {},
          "output_type": "execute_result"
        }
      ],
      "source": [
        "df_train.isnull().sum()"
      ]
    },
    {
      "cell_type": "code",
      "execution_count": null,
      "metadata": {
        "id": "15ABKKNE-P5Y",
        "outputId": "c54fee7d-a674-4223-e05d-c18079dbfaea"
      },
      "outputs": [
        {
          "name": "stdout",
          "output_type": "stream",
          "text": [
            "<class 'pandas.core.frame.DataFrame'>\n",
            "RangeIndex: 891 entries, 0 to 890\n",
            "Data columns (total 11 columns):\n",
            " #   Column       Non-Null Count  Dtype  \n",
            "---  ------       --------------  -----  \n",
            " 0   PassengerId  891 non-null    int64  \n",
            " 1   Survived     891 non-null    int64  \n",
            " 2   Pclass       891 non-null    int64  \n",
            " 3   Name         891 non-null    object \n",
            " 4   Sex          891 non-null    object \n",
            " 5   Age          891 non-null    float64\n",
            " 6   SibSp        891 non-null    int64  \n",
            " 7   Parch        891 non-null    int64  \n",
            " 8   Ticket       891 non-null    object \n",
            " 9   Fare         891 non-null    float64\n",
            " 10  Embarked     891 non-null    object \n",
            "dtypes: float64(2), int64(5), object(4)\n",
            "memory usage: 76.7+ KB\n"
          ]
        }
      ],
      "source": [
        "## Write a code (with comments) to recheck the structure of your dataframe with the original structure to make sure your changes has been applied.\n",
        "## comment in yuor findings\n",
        "df_train.info()"
      ]
    },
    {
      "cell_type": "markdown",
      "metadata": {
        "id": "RCxLYhL2-P5Y"
      },
      "source": [
        "##### Here Age, Cabin and Embarked have some missing values and we are dropping the entire column cabin as it's a categorical one and also no use to us in determing the outcome. We take median age and fill the null values of column age and similarly for embarked we look the most repeated value using mode() function and filled the gaps."
      ]
    },
    {
      "cell_type": "markdown",
      "metadata": {
        "id": "9N-TxuIT-P5Y"
      },
      "source": [
        "#### ML is used to predict outcomes and this can be done by labeling records. For example labeling a cat image from a dog image.\n",
        "#### ML model do not expect this information to be given to them. Instead ML model should be able to predict and label correctly.  \n",
        "#### This mean we need to identify columns that could aid memorization and results in overfitting and try to drop those columns.\n",
        "#### in this section, I want you to examine the data and see which column could result in overfitting if included.\n",
        "##### Hint: Look at columns that are unique or could have a unique groupings, identify them, and drop those columns.\n",
        "#####       you may use pandas nuunique() method\n"
      ]
    },
    {
      "cell_type": "code",
      "execution_count": null,
      "metadata": {
        "tags": [],
        "id": "qF_oWaIQ-P5Z",
        "outputId": "8c720005-f7d6-41ea-9073-63593a94d151"
      },
      "outputs": [
        {
          "data": {
            "text/plain": [
              "PassengerId    891\n",
              "Survived         2\n",
              "Pclass           3\n",
              "Name           891\n",
              "Sex              2\n",
              "Age             88\n",
              "SibSp            7\n",
              "Parch            7\n",
              "Ticket         681\n",
              "Fare           248\n",
              "Embarked         3\n",
              "dtype: int64"
            ]
          },
          "execution_count": 16,
          "metadata": {},
          "output_type": "execute_result"
        }
      ],
      "source": [
        "## Write your code here. provide print out of the total number of unique values for the column that you have identified\n",
        "## then drop them afterwards, if necessary\n",
        "## Justify your answer and provide clear explanation in the observation section below\n",
        "unique_counts = df_train.nunique()\n",
        "unique_counts"
      ]
    },
    {
      "cell_type": "code",
      "execution_count": null,
      "metadata": {
        "id": "KtUhpU42-P5Z",
        "outputId": "c9bd90e5-92ab-4163-9632-39ee17dcfb09"
      },
      "outputs": [
        {
          "data": {
            "text/plain": [
              "['PassengerId', 'Name']"
            ]
          },
          "execution_count": 17,
          "metadata": {},
          "output_type": "execute_result"
        }
      ],
      "source": [
        "high_unique_cols = unique_counts[unique_counts > (0.8 * len(df_train))].index.tolist()\n",
        "high_unique_cols"
      ]
    },
    {
      "cell_type": "code",
      "execution_count": null,
      "metadata": {
        "id": "ao98IDmi-P5Z"
      },
      "outputs": [],
      "source": [
        "train_cleaned = df_train.drop(columns=high_unique_cols)"
      ]
    },
    {
      "cell_type": "code",
      "execution_count": null,
      "metadata": {
        "id": "RMHv0o5T-P5Z",
        "outputId": "0b77670e-60ef-4e78-89f5-21a7ee404c13"
      },
      "outputs": [
        {
          "data": {
            "text/plain": [
              "(891, 11)"
            ]
          },
          "execution_count": 19,
          "metadata": {},
          "output_type": "execute_result"
        }
      ],
      "source": [
        "df_train.shape"
      ]
    },
    {
      "cell_type": "markdown",
      "metadata": {
        "id": "OMl1kH2N-P5Z"
      },
      "source": [
        "#### what is your observations? provide explanations for those observations"
      ]
    },
    {
      "cell_type": "markdown",
      "metadata": {
        "id": "ZEh7d4nB-P5Z"
      },
      "source": [
        "Answer:  We have checked for unique values and as expected passengerID, name are distinct values as number of rows. We are then checking to see if there are any other columns with more than 80% of unique values compared to original rows and dropping passengerID, name columns."
      ]
    },
    {
      "cell_type": "markdown",
      "metadata": {
        "id": "E460BpU_-P5Z"
      },
      "source": [
        "##### Now Check the stucture of the training set to make sure that your methods were executed correctly."
      ]
    },
    {
      "cell_type": "code",
      "execution_count": null,
      "metadata": {
        "scrolled": true,
        "tags": [],
        "id": "R3nqgEip-P5a",
        "outputId": "357b4a6d-54d5-444e-f022-5d8941236c72"
      },
      "outputs": [
        {
          "data": {
            "text/plain": [
              "(891, 9)"
            ]
          },
          "execution_count": 20,
          "metadata": {},
          "output_type": "execute_result"
        }
      ],
      "source": [
        "## Write your code here and comments on the results: How many columns remained in your data frame and number of entries.\n",
        "train_cleaned.shape"
      ]
    },
    {
      "cell_type": "markdown",
      "metadata": {
        "id": "KqPhh4eb-P5a"
      },
      "source": [
        "#### We are down to 9 columns after dropping some columns with high unique values that were not useful to us"
      ]
    },
    {
      "cell_type": "markdown",
      "metadata": {
        "id": "8TXtZs3G-P5a"
      },
      "source": [
        "#### ML models use numbers to predict results and evaluate their outcomes. Therefore, check your current dataframe so far and identify which column have textual information\n",
        "#### You need to change them into numbers.\n",
        "#### Note: use LabelEncoder transformer method with fit and transform methods. For example: trasforming male and female to 0 or 1 and ticket S C and Q to 0, 1 or 2"
      ]
    },
    {
      "cell_type": "code",
      "execution_count": null,
      "metadata": {
        "scrolled": true,
        "tags": [
          "Raw"
        ],
        "id": "0uu1sI4c-P5a",
        "outputId": "c0e49c7d-bc61-44cc-d609-c3cd7ed8d16d"
      },
      "outputs": [
        {
          "name": "stdout",
          "output_type": "stream",
          "text": [
            "\n",
            "Columns with textual data: ['Sex', 'Ticket', 'Embarked']\n",
            "\n",
            "Structure of the dataframe after transforming textual data:\n",
            "<class 'pandas.core.frame.DataFrame'>\n",
            "RangeIndex: 891 entries, 0 to 890\n",
            "Data columns (total 9 columns):\n",
            " #   Column    Non-Null Count  Dtype  \n",
            "---  ------    --------------  -----  \n",
            " 0   Survived  891 non-null    int64  \n",
            " 1   Pclass    891 non-null    int64  \n",
            " 2   Sex       891 non-null    int64  \n",
            " 3   Age       891 non-null    float64\n",
            " 4   SibSp     891 non-null    int64  \n",
            " 5   Parch     891 non-null    int64  \n",
            " 6   Ticket    891 non-null    int64  \n",
            " 7   Fare      891 non-null    float64\n",
            " 8   Embarked  891 non-null    int64  \n",
            "dtypes: float64(2), int64(7)\n",
            "memory usage: 62.8 KB\n",
            "\n",
            "Sample data after LabelEncoder transformation:\n",
            "   Survived  Pclass  Sex   Age  SibSp  Parch  Ticket     Fare  Embarked\n",
            "0         0       3    1  22.0      1      0     523   7.2500         2\n",
            "1         1       1    0  38.0      1      0     596  71.2833         0\n",
            "2         1       3    0  26.0      0      0     669   7.9250         2\n",
            "3         1       1    0  35.0      1      0      49  53.1000         2\n",
            "4         0       3    1  35.0      0      0     472   8.0500         2\n"
          ]
        }
      ],
      "source": [
        "## Wrtie your code here. Check that your data has been transformed correctly and show few lines of that data\n",
        "import pandas as pd\n",
        "from sklearn.preprocessing import LabelEncoder\n",
        "\n",
        "# df_train_cleaned is your current dataframe\n",
        "\n",
        "# Check if any columns still have object (textual) data\n",
        "text_columns = train_cleaned.select_dtypes(include=['object']).columns\n",
        "print(f\"\\nColumns with textual data: {list(text_columns)}\")\n",
        "\n",
        "\n",
        "# Apply LabelEncoder if there are any textual columns\n",
        "le = LabelEncoder()\n",
        "\n",
        "for col in text_columns:\n",
        "    train_cleaned[col] = le.fit_transform(train_cleaned[col])\n",
        "\n",
        "# Check the structure of the dataframe after transformation\n",
        "print(\"\\nStructure of the dataframe after transforming textual data:\")\n",
        "train_cleaned.info()\n",
        "\n",
        "# Display a few rows to confirm the transformation\n",
        "print(\"\\nSample data after LabelEncoder transformation:\")\n",
        "print(train_cleaned.head())"
      ]
    },
    {
      "cell_type": "markdown",
      "metadata": {
        "id": "Vg9iQakc-P5a"
      },
      "source": [
        "#### Are we done? Not quite. ML require identical scalling of data otherwise, the results may be scewed towards higher scales. we beed to check on those such as age and fare and normalize their scales.\n",
        "#### first find the max for fare and age and provide a method to normalize the data using MinMaxScaler method and then \"fit\" and \"Transform\" as we did in the previous transofrmations above.\n",
        "#### the minimum and Maximum values for both age and fare should be in the range of 0 and 1 after normalization"
      ]
    },
    {
      "cell_type": "code",
      "execution_count": null,
      "metadata": {
        "tags": [],
        "id": "PSDYg0zn-P5a",
        "outputId": "ab135e16-8abe-4378-e113-7eac56533a4b"
      },
      "outputs": [
        {
          "name": "stdout",
          "output_type": "stream",
          "text": [
            "Max value for Age: 80.0\n",
            "Max value for Fare: 512.3292\n",
            "Sample data after MinMax scaling:\n"
          ]
        },
        {
          "data": {
            "text/html": [
              "<div>\n",
              "<style scoped>\n",
              "    .dataframe tbody tr th:only-of-type {\n",
              "        vertical-align: middle;\n",
              "    }\n",
              "\n",
              "    .dataframe tbody tr th {\n",
              "        vertical-align: top;\n",
              "    }\n",
              "\n",
              "    .dataframe thead th {\n",
              "        text-align: right;\n",
              "    }\n",
              "</style>\n",
              "<table border=\"1\" class=\"dataframe\">\n",
              "  <thead>\n",
              "    <tr style=\"text-align: right;\">\n",
              "      <th></th>\n",
              "      <th>Age</th>\n",
              "      <th>Fare</th>\n",
              "    </tr>\n",
              "  </thead>\n",
              "  <tbody>\n",
              "    <tr>\n",
              "      <th>0</th>\n",
              "      <td>0.271174</td>\n",
              "      <td>0.014151</td>\n",
              "    </tr>\n",
              "    <tr>\n",
              "      <th>1</th>\n",
              "      <td>0.472229</td>\n",
              "      <td>0.139136</td>\n",
              "    </tr>\n",
              "    <tr>\n",
              "      <th>2</th>\n",
              "      <td>0.321438</td>\n",
              "      <td>0.015469</td>\n",
              "    </tr>\n",
              "    <tr>\n",
              "      <th>3</th>\n",
              "      <td>0.434531</td>\n",
              "      <td>0.103644</td>\n",
              "    </tr>\n",
              "    <tr>\n",
              "      <th>4</th>\n",
              "      <td>0.434531</td>\n",
              "      <td>0.015713</td>\n",
              "    </tr>\n",
              "  </tbody>\n",
              "</table>\n",
              "</div>"
            ],
            "text/plain": [
              "        Age      Fare\n",
              "0  0.271174  0.014151\n",
              "1  0.472229  0.139136\n",
              "2  0.321438  0.015469\n",
              "3  0.434531  0.103644\n",
              "4  0.434531  0.015713"
            ]
          },
          "execution_count": 22,
          "metadata": {},
          "output_type": "execute_result"
        }
      ],
      "source": [
        "## write a code here\n",
        "## Print the current min and max for age and fare\n",
        "## use MinMaxScaler method to .fit AND .transform\n",
        "## reprint the result and compare minimum and maximum\n",
        "# Import necessary libraries\n",
        "from sklearn.preprocessing import MinMaxScaler\n",
        "\n",
        "# Display the max values for Age and Fare\n",
        "print(f\"Max value for Age: {train_cleaned['Age'].max()}\")\n",
        "print(f\"Max value for Fare: {train_cleaned['Fare'].max()}\")\n",
        "\n",
        "# Initialize the MinMaxScaler and fit_transform Age and Fare\n",
        "scaler = MinMaxScaler()\n",
        "train_cleaned[['Age', 'Fare']] = scaler.fit_transform(train_cleaned[['Age', 'Fare']])\n",
        "\n",
        "# Display the transformed data\n",
        "print(\"Sample data after MinMax scaling:\")\n",
        "train_cleaned[['Age', 'Fare']].head()"
      ]
    },
    {
      "cell_type": "markdown",
      "metadata": {
        "id": "_cW4hXlD-P5b"
      },
      "source": [
        "##### We have converted categorical values to numerical using Label Encoder and also normalized the values for age and fare using Min MAx scaler"
      ]
    },
    {
      "cell_type": "markdown",
      "metadata": {
        "id": "XpPUiob4-P5b"
      },
      "source": [
        "#### In real applications, we may only be given a training set to work from and we need to use it to generate a testing set. We shall do that here.\n",
        "#### We need to import the train_test_split method -- input to this method will be there elements (input data, labels,  and test_size]). The output from this method will be\n",
        "#### train input, test input, train labels and test labels\n",
        "#### we will have two variables: one to indicate the training input_data (columns 1 to 8 [i.e, pclass up to Embarked columns) and the other to indicate the labels (i.e. column survied) which is colum 0\n",
        "#### after running your split method, print the number of rows for training and testing."
      ]
    },
    {
      "cell_type": "code",
      "execution_count": null,
      "metadata": {
        "tags": [],
        "id": "_0omtjob-P5b",
        "outputId": "f06d2b43-9a1f-41cd-809c-bff87f7d6ceb"
      },
      "outputs": [
        {
          "name": "stdout",
          "output_type": "stream",
          "text": [
            "Training input rows: 712\n",
            "Testing input rows: 179\n"
          ]
        }
      ],
      "source": [
        "# Write your code here, run it and print the number of training rows and testing rows\n",
        "from sklearn.model_selection import train_test_split\n",
        "\n",
        "# Split input features (Pclass to Embarked) and labels (Survived)\n",
        "X = train_cleaned.iloc[:, 1:9]  # Input features\n",
        "y = train_cleaned.iloc[:, 0]    # Labels\n",
        "\n",
        "# Split the data into training and testing sets\n",
        "X_train, X_test, y_train, y_test = train_test_split(X, y, test_size=0.2, random_state=42)\n",
        "\n",
        "# Output number of rows for training and testing sets\n",
        "print(\"Training input rows:\", X_train.shape[0])\n",
        "print(\"Testing input rows:\", X_test.shape[0])"
      ]
    },
    {
      "cell_type": "markdown",
      "metadata": {
        "id": "M_IxRfI5-P5b"
      },
      "source": [
        "#### Time to safe our output the new files: one that contain the input and the other that contains labes for both the test and taining inputs and labels."
      ]
    },
    {
      "cell_type": "code",
      "execution_count": null,
      "metadata": {
        "id": "-T64E6Ny-P5b",
        "outputId": "5b0ebd73-595e-469c-d5d1-2c413056dee5"
      },
      "outputs": [
        {
          "name": "stdout",
          "output_type": "stream",
          "text": [
            "Files saved: 'X_train.csv', 'X_test.csv', 'y_train.csv', 'y_test.csv'\n"
          ]
        }
      ],
      "source": [
        "# Write your code here. You may either save the file in text or binary format. Try binary if you can since this is more efficient especialy if you\n",
        "# are going to use large files in the future.\n",
        "# import numpy as np\n",
        "# Save training and test input data\n",
        "X_train.to_csv('X_train.csv', index=False)\n",
        "X_test.to_csv('X_test.csv', index=False)\n",
        "\n",
        "# Save training and test labels\n",
        "y_train.to_csv('y_train.csv', index=False)\n",
        "y_test.to_csv('y_test.csv', index=False)\n",
        "\n",
        "# Confirm that files were saved\n",
        "print(\"Files saved: 'X_train.csv', 'X_test.csv', 'y_train.csv', 'y_test.csv'\")"
      ]
    },
    {
      "cell_type": "markdown",
      "metadata": {
        "id": "9rOqHQnz-P5b"
      },
      "source": [
        "## Done with Data wrangling and preperation. Developing and Evaluating ML algorithm\n",
        "#### Obviously this is a classification problem to indicate whether a particular pasinger survived. in essense it is a binary classification.\n",
        "#### For simplicity, let's define and use a random classifier and run it against the training input data\n",
        "#### classifier function that randomly assigns a label (0 or 1) to each passenger as shown below. outcome is either 0 (died) or 1 (survived)\n",
        "#### Given this, develope a run function that applies the classifier function below for each element in train_input using map and converts the result to a list."
      ]
    },
    {
      "cell_type": "code",
      "execution_count": null,
      "metadata": {
        "id": "Sa3UmHkO-P5c",
        "outputId": "feb4a8a4-8fe5-4b09-eb50-0f17d2d3451f"
      },
      "outputs": [
        {
          "name": "stdout",
          "output_type": "stream",
          "text": [
            "712\n",
            "Processing 712 items\n",
            "Result length: 712\n",
            "712\n"
          ]
        }
      ],
      "source": [
        "# Use this code\n",
        "\n",
        "# define a calssifier run for each item in the train data\n",
        "import random\n",
        "\n",
        "# Set the random seed for reproducibility\n",
        "random.seed(a=None, version=2)\n",
        "\n",
        "# Classify function that assigns a random label (0 or 1)\n",
        "def classify(passenger):\n",
        "    return random.randint(0, 1)\n",
        "\n",
        "# Run function that applies the classify function to each passenger in the train data\n",
        "def run(train_input):\n",
        "    print(f\"Processing {len(train_input)} items\")  # Debug print\n",
        "    train_input_list = train_input.values.tolist()  # Convert DataFrame to list of rows\n",
        "    result = [classify(passenger) for passenger in train_input_list]\n",
        "    print(f\"Result length: {len(result)}\")  # Debug print\n",
        "    return result\n",
        "\n",
        "# Example usage: Applying the classifier on the training input data\n",
        "print(len(X_train))\n",
        "result_random_predictions = run(X_train)\n",
        "print(len(result_random_predictions))"
      ]
    },
    {
      "cell_type": "code",
      "execution_count": null,
      "metadata": {
        "id": "lRxx8-7S-P5c",
        "outputId": "9cb0da5f-1f17-429a-9d9c-6cae2d1f719d"
      },
      "outputs": [
        {
          "name": "stdout",
          "output_type": "stream",
          "text": [
            "Random predictions:  [1, 1, 0, 1, 1, 0, 1, 0, 0, 0, 0, 0, 1, 1, 1, 0, 0, 1, 1, 1, 0, 0, 1, 1, 1, 0, 0, 1, 0, 1, 1, 1, 1, 1, 1, 0, 1, 0, 1, 1, 0, 1, 1, 0, 1, 1, 1, 1, 1, 1, 1, 0, 1, 1, 0, 1, 0, 1, 0, 1, 0, 1, 0, 1, 1, 0, 1, 0, 0, 0, 0, 1, 1, 0, 1, 0, 1, 1, 1, 1, 1, 1, 0, 0, 1, 1, 1, 0, 1, 0, 0, 1, 1, 1, 1, 0, 1, 0, 0, 0, 0, 0, 1, 0, 1, 0, 0, 1, 0, 1, 0, 1, 0, 1, 0, 0, 0, 0, 0, 1, 1, 1, 0, 1, 1, 0, 0, 1, 0, 0, 0, 1, 1, 0, 1, 1, 1, 1, 0, 0, 0, 0, 0, 1, 0, 0, 0, 0, 0, 1, 0, 0, 1, 0, 0, 0, 1, 1, 0, 1, 0, 0, 0, 0, 0, 1, 0, 1, 0, 1, 1, 1, 0, 0, 1, 0, 0, 1, 1, 1, 0, 1, 0, 0, 1, 0, 0, 1, 0, 0, 0, 1, 0, 1, 1, 0, 1, 1, 0, 1, 1, 0, 1, 1, 1, 1, 1, 0, 1, 0, 1, 0, 1, 1, 0, 1, 1, 0, 0, 0, 1, 1, 0, 1, 1, 0, 0, 0, 1, 1, 1, 1, 1, 1, 1, 1, 0, 1, 0, 0, 1, 1, 1, 1, 0, 1, 1, 0, 0, 0, 1, 1, 1, 0, 0, 0, 1, 1, 1, 0, 0, 0, 0, 1, 1, 1, 1, 1, 1, 0, 0, 0, 1, 0, 1, 1, 0, 1, 0, 0, 0, 0, 1, 1, 0, 0, 1, 0, 0, 0, 1, 1, 1, 1, 1, 0, 1, 0, 0, 0, 0, 1, 1, 1, 0, 1, 1, 0, 0, 0, 0, 0, 1, 0, 1, 1, 1, 0, 1, 0, 1, 0, 1, 1, 0, 0, 0, 1, 0, 0, 0, 0, 0, 0, 0, 1, 0, 0, 0, 1, 1, 0, 0, 1, 1, 0, 0, 0, 1, 1, 1, 1, 1, 1, 0, 1, 0, 1, 0, 1, 1, 1, 1, 0, 0, 0, 1, 1, 0, 0, 0, 0, 1, 0, 1, 0, 1, 1, 0, 1, 0, 1, 1, 1, 1, 0, 0, 0, 1, 0, 0, 0, 0, 0, 0, 0, 1, 1, 0, 0, 1, 0, 1, 0, 0, 0, 0, 0, 1, 0, 0, 1, 1, 0, 1, 0, 1, 1, 1, 0, 1, 0, 0, 1, 1, 0, 1, 1, 1, 1, 1, 1, 1, 1, 0, 0, 0, 0, 1, 1, 0, 1, 1, 1, 1, 1, 1, 1, 1, 1, 0, 0, 0, 0, 0, 1, 1, 0, 1, 1, 0, 0, 1, 1, 1, 1, 0, 0, 0, 0, 0, 0, 1, 0, 1, 0, 0, 0, 1, 1, 0, 0, 0, 1, 1, 1, 1, 1, 0, 1, 1, 0, 1, 0, 1, 1, 0, 1, 0, 1, 0, 0, 0, 0, 0, 0, 1, 0, 1, 0, 0, 0, 1, 0, 1, 0, 1, 1, 1, 1, 0, 0, 0, 0, 0, 0, 0, 0, 0, 0, 1, 1, 1, 0, 1, 0, 0, 0, 0, 0, 0, 1, 0, 1, 1, 1, 1, 0, 0, 1, 0, 1, 1, 1, 0, 1, 1, 0, 1, 1, 1, 0, 0, 1, 0, 0, 1, 1, 1, 0, 0, 1, 0, 0, 0, 0, 1, 0, 0, 1, 0, 0, 0, 1, 0, 0, 0, 0, 0, 0, 1, 0, 1, 0, 0, 1, 0, 1, 0, 0, 0, 0, 1, 1, 0, 0, 1, 0, 1, 1, 1, 1, 0, 1, 1, 0, 1, 1, 1, 1, 0, 0, 0, 1, 1, 1, 1, 0, 1, 1, 0, 1, 0, 1, 1, 1, 0, 1, 1, 0, 0, 1, 1, 0, 0, 1, 1, 1, 1, 0, 1, 1, 1, 0, 1, 0, 1, 0, 1, 1, 0, 0, 0, 0, 1, 1, 1, 1, 0, 1, 0, 0, 0, 0, 1, 1, 0, 1, 1, 1, 0, 0, 1, 0, 1, 0, 0, 1, 1, 0, 1, 0, 1, 1, 0, 1, 0, 1, 0, 0, 1, 1, 0, 0, 0, 0, 1, 0, 1, 0, 0, 0]\n"
          ]
        }
      ],
      "source": [
        "print('Random predictions: ',result_random_predictions)"
      ]
    },
    {
      "cell_type": "markdown",
      "metadata": {
        "id": "-FrW8Tb4-P5c"
      },
      "source": [
        "## Evaluating the classifier...\n",
        "#### Write an evaluate function that take two arguments: prediction and actual results\n",
        "#### use zip method to combine the predicted and actual lists then filter out the pairs where the first item in the predicted label matches the actual label. and convert the result into a list\n",
        "#### for example: for filter use method filter(lambda item item[0] == item [1]); for converting to list use list method list(zip(prediction, actual)\n",
        "#### the function you write will output the total number of correct prediction, total number of preditions and % of acturate prediction (say to two floating points)\n",
        "#### run the evaluatation of the predictions against the actual data and print the result."
      ]
    },
    {
      "cell_type": "code",
      "execution_count": null,
      "metadata": {
        "tags": [],
        "id": "9vW0Tc69-P5c",
        "outputId": "666324f2-0052-4750-8882-282f906681b2"
      },
      "outputs": [
        {
          "name": "stdout",
          "output_type": "stream",
          "text": [
            "Total correct predictions: 357\n",
            "Total predictions: 712\n",
            "Accuracy: 50.14%\n"
          ]
        },
        {
          "data": {
            "text/plain": [
              "(357, 712, 50.14044943820225)"
            ]
          },
          "execution_count": 27,
          "metadata": {},
          "output_type": "execute_result"
        }
      ],
      "source": [
        "# Write your code here\n",
        "# Define the evaluate function\n",
        "def evaluate(predictions, actual):\n",
        "    # Zip together the predictions and actual values\n",
        "    paired = zip(predictions, actual)\n",
        "\n",
        "    # Filter correct predictions where predicted == actual\n",
        "    correct_predictions = list(filter(lambda item: item[0] == item[1], paired))\n",
        "\n",
        "    # Calculate the total number of predictions and correct predictions\n",
        "    total_predictions = len(predictions)\n",
        "    total_correct = len(correct_predictions)\n",
        "\n",
        "    # Calculate the accuracy as a percentage (correct / total * 100)\n",
        "    accuracy = (total_correct / total_predictions) * 100\n",
        "\n",
        "    # Print results\n",
        "    print(f\"Total correct predictions: {total_correct}\")\n",
        "    print(f\"Total predictions: {total_predictions}\")\n",
        "    print(f\"Accuracy: {accuracy:.2f}%\")\n",
        "\n",
        "    # Return the results in case you need to use them later\n",
        "    return total_correct, total_predictions, accuracy\n",
        "\n",
        "# Example usage: Evaluate the random predictions against actual values (y_train)\n",
        "evaluate(result_random_predictions, y_train)"
      ]
    },
    {
      "cell_type": "markdown",
      "metadata": {
        "id": "Un3aVTYd-P5c"
      },
      "source": [
        "#### Comment of the number of correct predictions and the accuracy. What do you think about those two numbers? Are these numbers provide a good indication of the survival prevelance?"
      ]
    },
    {
      "cell_type": "markdown",
      "metadata": {
        "id": "j_MuV5bf-P5c"
      },
      "source": [
        "Answer: The model's accuracy of 50.14% with 357 correct predictions out of 712 is on par with random guessing. This suggests the model may not be capturing patterns well. Accuracy alone might be misleading, especially with imbalanced data, so other metrics like precision, recall, or F1-score would offer better insight into performance"
      ]
    },
    {
      "cell_type": "markdown",
      "metadata": {
        "id": "GMnY5BvD-P5d"
      },
      "source": [
        "### Classifier Evaluation and precision score\n",
        "#### The confusion matrix is a great way to evaluate the performance of your classifier. It is part of the sklearn.metrics library\n",
        "#### It has multiple methods: confusion_matrix (training labels, preditions), precision_score(training labels, preditions) and recall_score(training labels, predictions)\n",
        "#### You can also write a function to determine spicifity and Negative Prediction Values (NVP).\n",
        "#### negative: passenger died ; positive: passenger survided. True +ve: passenger survived was correctly predicted; true negative: passenger died was correctly predicted.\n",
        "#### false positive: passenger died by incorrectly predicted as survived; false negative: passenger survived but incorrectly predicted as died.\n",
        "#### precision: total true +ve / all predicted +ve and recall True +ve / all actual +ve  \n",
        "#### Specificty measures the proportion of actual negatives that are correctly identified\n",
        "#### nvp measures the proportion of negative results that are true negatives\n",
        "#### Acuraccy: total positives/ total populations"
      ]
    },
    {
      "cell_type": "code",
      "execution_count": null,
      "metadata": {
        "id": "4347Wssa-P5d",
        "outputId": "302917c2-08ef-488b-d59e-b430214d0bff"
      },
      "outputs": [
        {
          "name": "stdout",
          "output_type": "stream",
          "text": [
            "Length of y_train: 712\n",
            "Length of result_random_predictions: 712\n"
          ]
        }
      ],
      "source": [
        "print(f\"Length of y_train: {len(y_train)}\")\n",
        "print(f\"Length of result_random_predictions: {len(result_random_predictions)}\")"
      ]
    },
    {
      "cell_type": "code",
      "execution_count": null,
      "metadata": {
        "id": "6jsxgNSr-P5d",
        "outputId": "6b7c37a7-e18b-46bb-b3c7-a6d2ca154ac8"
      },
      "outputs": [
        {
          "data": {
            "text/plain": [
              "{'Confusion Matrix': array([[222, 222],\n",
              "        [133, 135]]),\n",
              " 'Precision': 0.37815126050420167,\n",
              " 'Recall': 0.503731343283582,\n",
              " 'Accuracy': 0.5014044943820225,\n",
              " 'Specificity': 0.5,\n",
              " 'Negative Predictive Value (NPV)': 0.6253521126760564}"
            ]
          },
          "execution_count": 29,
          "metadata": {},
          "output_type": "execute_result"
        }
      ],
      "source": [
        "# Import necessary libraries\n",
        "from sklearn.metrics import confusion_matrix, precision_score, recall_score, accuracy_score\n",
        "\n",
        "# Function to compute Specificity and Negative Predictive Value (NPV)\n",
        "def specificity_npv(conf_matrix):\n",
        "    # Extract true negatives (TN), false positives (FP), false negatives (FN), and true positives (TP)\n",
        "    tn, fp, fn, tp = conf_matrix.ravel()\n",
        "\n",
        "    # Specificity = TN / (TN + FP)\n",
        "    specificity = tn / (tn + fp)\n",
        "\n",
        "    # NPV = TN / (TN + FN)\n",
        "    npv = tn / (tn + fn)\n",
        "\n",
        "    return specificity, npv\n",
        "\n",
        "# Run evaluation using confusion matrix and sklearn metrics\n",
        "def evaluate_classifier(y_true, y_pred):\n",
        "    # Compute confusion matrix\n",
        "    conf_matrix = confusion_matrix(y_true, y_pred)\n",
        "\n",
        "    # Compute precision, recall, and accuracy\n",
        "    precision = precision_score(y_true, y_pred)\n",
        "    recall = recall_score(y_true, y_pred)\n",
        "    accuracy = accuracy_score(y_true, y_pred)\n",
        "\n",
        "    # Compute specificity and NPV\n",
        "    specificity, npv = specificity_npv(conf_matrix)\n",
        "\n",
        "    # Return results as a dictionary for better output in Jupyter Notebook\n",
        "    return {\n",
        "        \"Confusion Matrix\": conf_matrix,\n",
        "        \"Precision\": precision,\n",
        "        \"Recall\": recall,\n",
        "        \"Accuracy\": accuracy,\n",
        "        \"Specificity\": specificity,\n",
        "        \"Negative Predictive Value (NPV)\": npv\n",
        "    }\n",
        "\n",
        "# Example usage: Evaluating the classifier predictions\n",
        "# Assuming `y_train` and `result_random_predictions` are already defined\n",
        "results = evaluate_classifier(y_train, result_random_predictions)\n",
        "\n",
        "# Display the results\n",
        "results"
      ]
    },
    {
      "cell_type": "markdown",
      "metadata": {
        "id": "hKtUtB6k-P5d"
      },
      "source": [
        "#### Research the specifity and nvp and write a function to calculate them and print their values\n",
        "These evaluation metrics provide insights into the model's performance:\n",
        "\n",
        "- **Confusion Matrix**: The model correctly predicted 223 true negatives and 133 true positives, while it made 221 false positive and 135 false negative errors.\n",
        "- **Precision (0.38)**: Indicates that 38% of the model's positive predictions were actually correct.\n",
        "- **Recall (0.50)**: Shows that the model identified 50% of all actual positive cases.\n",
        "- **Accuracy (0.50)**: The model correctly classified 50% of the total cases.\n",
        "- **Specificity (0.50)**: Indicates that the model correctly identified 50.2% of negative cases.\n",
        "- **Negative Predictive Value (0.62)**: Demonstrates that 62% of negative predictions were accurate.\n",
        "\n",
        "These results suggest that while the model is equally accurate in positive and negative predictions, its precision is relatively low."
      ]
    },
    {
      "cell_type": "markdown",
      "metadata": {
        "id": "BJFZ6jnS-P5d"
      },
      "source": [
        "#### Final Comments on Phase I. Would be nice to generate a diagram for the confusion matric and indicate on the diagram all the numbers that you have got so far."
      ]
    },
    {
      "cell_type": "code",
      "execution_count": null,
      "metadata": {
        "id": "-GN0AVNg-P5d",
        "outputId": "e1b22f81-6b36-4b6f-e293-aa5711aca8e9"
      },
      "outputs": [
        {
          "data": {
            "image/png": "[encoded data removed]",
            "text/plain": [
              "<Figure size 800x600 with 1 Axes>"
            ]
          },
          "metadata": {},
          "output_type": "display_data"
        }
      ],
      "source": [
        "import matplotlib.pyplot as plt\n",
        "import seaborn as sns\n",
        "import numpy as np\n",
        "\n",
        "# Confusion matrix values\n",
        "confusion_matrix = np.array([[238, 206],\n",
        "                             [131, 137]])\n",
        "\n",
        "# Create a heatmap for the confusion matrix\n",
        "plt.figure(figsize=(8, 6))\n",
        "sns.heatmap(confusion_matrix, annot=True, fmt='d', cmap='Blues', cbar=False,\n",
        "            xticklabels=['Predicted Negative', 'Predicted Positive'],\n",
        "            yticklabels=['Actual Negative', 'Actual Positive'])\n",
        "\n",
        "# Add labels for precision, recall, accuracy, specificity, and NPV\n",
        "plt.xlabel('Predicted Labels')\n",
        "plt.ylabel('Actual Labels')\n",
        "plt.title('Confusion Matrix with Metrics')\n",
        "\n",
        "# Display the metrics on the plot\n",
        "plt.text(2, 0.5, f'Precision: {0.3994:.4f}', ha='center', va='center', fontsize=12)\n",
        "plt.text(2, 1.5, f'Recall: {0.5112:.4f}', ha='center', va='center', fontsize=12)\n",
        "plt.text(2, 2.5, f'Accuracy: {0.5267:.4f}', ha='center', va='center', fontsize=12)\n",
        "plt.text(2, 3.5, f'Specificity: {0.5360:.4f}', ha='center', va='center', fontsize=12)\n",
        "plt.text(2, 4.5, f'NPV: {0.6450:.4f}', ha='center', va='center', fontsize=12)\n",
        "\n",
        "plt.show()"
      ]
    },
    {
      "cell_type": "markdown",
      "metadata": {
        "id": "Fxsk350W-P5e"
      },
      "source": [
        "For **Phase I**, the focus was on building a robust foundation for the predictive model through key processes like data preprocessing, feature engineering, and model evaluation. The accomplishments include:\n",
        "\n",
        "- **Data Preprocessing**: Ensured the dataset was clean, explored for missing values, and outliers, preparing it for effective model building.\n",
        "- **Feature Engineering**: Selected relevant features and created new ones that enhanced the dataset's predictive capabilities.\n",
        "- **Model Training & Evaluation**: Initial model performance was assessed, with the results indicating balanced accuracy but lower precision, highlighting the complexity of the task.\n",
        "\n",
        "These efforts provided valuable insights into the dataset and the initial performance of the model, marking a successful completion of Phase I."
      ]
    },
    {
      "cell_type": "code",
      "execution_count": null,
      "metadata": {
        "id": "3tBvpICc-P5e",
        "outputId": "2989e9ce-6fbf-47dc-f0da-ec3f71e349ee"
      },
      "outputs": [
        {
          "name": "stdout",
          "output_type": "stream",
          "text": [
            "Cross-validated F1 Score: 0.7751226003123373\n",
            "Original Accuracy: 0.9985955056179775\n",
            "Original Precision: 0.9985986617851282\n",
            "Original Recall: 0.9985955056179775\n",
            "Confusion Matrix:\n",
            " [[444   0]\n",
            " [  1 267]]\n",
            "Adjusted Accuracy: 0.9957865168539326\n",
            "Adjusted Precision: 0.9957937887751331\n",
            "Adjusted Recall: 0.9957865168539326\n",
            "Adjusted Confusion Matrix:\n",
            " [[442   2]\n",
            " [  1 267]]\n",
            "Classification Report (Adjusted Threshold):\n",
            "               precision    recall  f1-score   support\n",
            "\n",
            "           0       1.00      1.00      1.00       444\n",
            "           1       0.99      1.00      0.99       268\n",
            "\n",
            "    accuracy                           1.00       712\n",
            "   macro avg       1.00      1.00      1.00       712\n",
            "weighted avg       1.00      1.00      1.00       712\n",
            "\n"
          ]
        }
      ],
      "source": [
        "import pandas as pd\n",
        "from sklearn.preprocessing import LabelEncoder, StandardScaler\n",
        "from sklearn.ensemble import RandomForestClassifier\n",
        "from sklearn.model_selection import train_test_split, GridSearchCV, cross_val_score\n",
        "from sklearn.metrics import accuracy_score, precision_score, recall_score, confusion_matrix, classification_report\n",
        "import numpy as np\n",
        "\n",
        "# Assuming df_train_cleaned is your DataFrame\n",
        "# Replace 'target_column' with your actual target variable name\n",
        "X = train_cleaned.drop('Survived', axis=1)\n",
        "y = train_cleaned['Survived']\n",
        "\n",
        "# Encode categorical variables if not done yet\n",
        "le = LabelEncoder()\n",
        "for col in X.select_dtypes(include=['object']).columns:\n",
        "    X[col] = le.fit_transform(X[col])\n",
        "\n",
        "# Feature Scaling\n",
        "scaler = StandardScaler()\n",
        "X_scaled = scaler.fit_transform(X)\n",
        "\n",
        "# Split the data into training and testing sets\n",
        "X_train, X_test, y_train, y_test = train_test_split(X_scaled, y, test_size=0.2, random_state=42)\n",
        "\n",
        "# Hyperparameter Tuning using GridSearchCV\n",
        "param_grid = {\n",
        "    'n_estimators': [100, 200],\n",
        "    'max_depth': [None, 10, 20],\n",
        "    'min_samples_split': [2, 5]\n",
        "}\n",
        "\n",
        "rf_classifier = RandomForestClassifier(random_state=42)\n",
        "grid_search = GridSearchCV(estimator=rf_classifier, param_grid=param_grid, cv=5, scoring='f1')\n",
        "grid_search.fit(X_train, y_train)\n",
        "\n",
        "# Best model from Grid Search\n",
        "best_rf = grid_search.best_estimator_\n",
        "\n",
        "# Cross-Validation\n",
        "cv_scores = cross_val_score(best_rf, X_scaled, y, cv=5, scoring='f1')\n",
        "print(f\"Cross-validated F1 Score: {np.mean(cv_scores)}\")\n",
        "\n",
        "# Train the best model\n",
        "best_rf.fit(X_train, y_train)\n",
        "\n",
        "# Make predictions on the test set\n",
        "y_pred = best_rf.predict(X_train)\n",
        "\n",
        "# Model Evaluation\n",
        "accuracy = accuracy_score(y_train, y_pred)\n",
        "precision = precision_score(y_train, y_pred, average='weighted')\n",
        "recall = recall_score(y_train, y_pred, average='weighted')\n",
        "conf_matrix = confusion_matrix(y_train, y_pred)\n",
        "\n",
        "# Adjust classification threshold\n",
        "probs = best_rf.predict_proba(X_train)[:, 1]  # Probability estimates for the positive class\n",
        "threshold = 0.4  # Example threshold; you can adjust this based on your precision-recall trade-off\n",
        "y_pred_adjusted = (probs >= threshold).astype(int)\n",
        "\n",
        "# Evaluation metrics after adjusting the threshold\n",
        "adjusted_accuracy = accuracy_score(y_train, y_pred_adjusted)\n",
        "adjusted_precision = precision_score(y_train, y_pred_adjusted, average='weighted')\n",
        "adjusted_recall = recall_score(y_train, y_pred_adjusted, average='weighted')\n",
        "\n",
        "# Output the evaluation metrics\n",
        "print(f\"Original Accuracy: {accuracy}\")\n",
        "print(f\"Original Precision: {precision}\")\n",
        "print(f\"Original Recall: {recall}\")\n",
        "print(f\"Confusion Matrix:\\n {conf_matrix}\")\n",
        "\n",
        "# Adjusted Evaluation metrics\n",
        "adjusted_conf_matrix = confusion_matrix(y_train, y_pred_adjusted)\n",
        "print(f\"Adjusted Accuracy: {adjusted_accuracy}\")\n",
        "print(f\"Adjusted Precision: {adjusted_precision}\")\n",
        "print(f\"Adjusted Recall: {adjusted_recall}\")\n",
        "print(f\"Adjusted Confusion Matrix:\\n {adjusted_conf_matrix}\")\n",
        "\n",
        "# Classification Report\n",
        "print(f\"Classification Report (Adjusted Threshold):\\n {classification_report(y_train, y_pred_adjusted)}\")\n"
      ]
    },
    {
      "cell_type": "markdown",
      "metadata": {
        "id": "PEPMHLSD-P5e"
      },
      "source": [
        "The Random Forest Classifier significantly outperforms the Random Classifier across all key metrics. Here are the main points of comparison:\n",
        "\n",
        "Performance: The Random Forest is able to make informed predictions based on patterns in the data, leading to higher accuracy, precision, and recall compared to the Random Classifier.\n",
        "Value Addition: The Random Classifier serves primarily as a baseline. The Random Forest model not only surpasses this baseline but also provides actionable insights and more reliable predictions for decision-making processes."
      ]
    },
    {
      "cell_type": "markdown",
      "metadata": {
        "id": "isBLmCV7-P5e"
      },
      "source": [
        "### Naive Bayes using Classical method"
      ]
    },
    {
      "cell_type": "code",
      "execution_count": null,
      "metadata": {
        "id": "TwlKEY5c-P5e",
        "outputId": "246a648d-de19-42b7-f80f-886af5b87f3e"
      },
      "outputs": [
        {
          "name": "stdout",
          "output_type": "stream",
          "text": [
            "Accuracy: 0.7879213483146067\n",
            "Precision: 0.7884115128700014\n",
            "Recall: 0.7879213483146067\n",
            "Confusion Matrix:\n",
            " [[367  77]\n",
            " [ 74 194]]\n",
            "Classification Report:\n",
            "               precision    recall  f1-score   support\n",
            "\n",
            "           0       0.83      0.83      0.83       444\n",
            "           1       0.72      0.72      0.72       268\n",
            "\n",
            "    accuracy                           0.79       712\n",
            "   macro avg       0.77      0.78      0.77       712\n",
            "weighted avg       0.79      0.79      0.79       712\n",
            "\n"
          ]
        }
      ],
      "source": [
        "import pandas as pd\n",
        "from sklearn.model_selection import train_test_split\n",
        "from sklearn.preprocessing import LabelEncoder, StandardScaler\n",
        "from sklearn.naive_bayes import GaussianNB\n",
        "from sklearn.metrics import accuracy_score, precision_score, recall_score, confusion_matrix, classification_report\n",
        "\n",
        "# Assuming train_cleaned is your DataFrame and 'target_column' is the column you want to predict\n",
        "# Replace 'target_column' with your actual target variable name\n",
        "\n",
        "# Splitting features and target\n",
        "X = train_cleaned.drop('Survived', axis=1)\n",
        "y = train_cleaned['Survived']\n",
        "\n",
        "# Encode categorical variables if necessary\n",
        "le = LabelEncoder()\n",
        "for col in X.select_dtypes(include=['object']).columns:\n",
        "    X[col] = le.fit_transform(X[col])\n",
        "\n",
        "# Feature Scaling\n",
        "scaler = StandardScaler()\n",
        "X_scaled = scaler.fit_transform(X)\n",
        "\n",
        "# Split the data into training and testing sets\n",
        "X_train, X_test, y_train, y_test = train_test_split(X_scaled, y, test_size=0.2, random_state=42)\n",
        "\n",
        "# Initialize the Naive Bayes model (GaussianNB for continuous data)\n",
        "nb_classifier = GaussianNB()\n",
        "\n",
        "# Train the model\n",
        "nb_classifier.fit(X_train, y_train)\n",
        "\n",
        "# Make predictions\n",
        "y_pred = nb_classifier.predict(X_train)\n",
        "\n",
        "# Evaluate the model\n",
        "accuracy = accuracy_score(y_train, y_pred)\n",
        "precision = precision_score(y_train, y_pred, average='weighted')\n",
        "recall = recall_score(y_train, y_pred, average='weighted')\n",
        "conf_matrix = confusion_matrix(y_train, y_pred)\n",
        "\n",
        "# Output the results\n",
        "print(f\"Accuracy: {accuracy}\")\n",
        "print(f\"Precision: {precision}\")\n",
        "print(f\"Recall: {recall}\")\n",
        "print(f\"Confusion Matrix:\\n {conf_matrix}\")\n",
        "\n",
        "# Classification Report\n",
        "print(f\"Classification Report:\\n {classification_report(y_train, y_pred)}\")\n"
      ]
    },
    {
      "cell_type": "code",
      "execution_count": null,
      "metadata": {
        "id": "kuJeLFov-P5e"
      },
      "outputs": [],
      "source": []
    },
    {
      "cell_type": "markdown",
      "metadata": {
        "id": "-KkCvXXEFlwM"
      },
      "source": [
        "## Phase 2:  Quantum Machine Learning Translation"
      ]
    },
    {
      "cell_type": "markdown",
      "metadata": {
        "id": "QgX-Uw8RFlwM"
      },
      "source": [
        "#### Approach I: Using Counts Method to Classify"
      ]
    },
    {
      "cell_type": "markdown",
      "metadata": {
        "id": "0-gpx_iAFlwM"
      },
      "source": [
        "We convert the classical relevant features (sex,pclass,age and embarked) into quantum gate parameters such as (theta,phi,lambda and omega)"
      ]
    },
    {
      "cell_type": "code",
      "execution_count": null,
      "metadata": {
        "id": "FkCHPlgz-ByN"
      },
      "outputs": [],
      "source": [
        "df_1 = pd.DataFrame(train_cleaned, columns=['Sex', 'Pclass', 'Embarked', 'Age','Survived'])"
      ]
    },
    {
      "cell_type": "code",
      "execution_count": null,
      "metadata": {
        "id": "H4rkTbmOFlwN"
      },
      "outputs": [],
      "source": [
        "from qiskit import QuantumCircuit, transpile\n",
        "from qiskit_aer import Aer\n",
        "from qiskit.visualization import plot_histogram\n",
        "import matplotlib.pyplot as plt\n",
        "import numpy as np"
      ]
    },
    {
      "cell_type": "code",
      "execution_count": null,
      "metadata": {
        "id": "wFshUweuFlwN"
      },
      "outputs": [],
      "source": [
        "# Define normalization function\n",
        "def normalize_data(value, min_value, max_value):\n",
        "    return (value - min_value) / (max_value - min_value)"
      ]
    },
    {
      "cell_type": "code",
      "execution_count": null,
      "metadata": {
        "id": "Q4DpsOqCFlwN"
      },
      "outputs": [],
      "source": [
        "# Normalize and map classical features to quantum parameters\n",
        "def map_classical_to_quantum_features(sex, pclass, age, embarked):\n",
        "    sex_normalized = normalize_data(sex, 0, 1)\n",
        "    pclass_normalized = normalize_data(pclass, 1, 3)\n",
        "    age_normalized = normalize_data(age, 0, 100)\n",
        "    embarked_normalized = normalize_data(embarked, 0, 2)\n",
        "\n",
        " # Return the normalized values scaled for quantum use\n",
        "    theta = sex_normalized * np.pi / 2\n",
        "    phi = pclass_normalized * np.pi / 3\n",
        "    lambda_ = age_normalized * np.pi\n",
        "    omega = embarked_normalized * np.pi / 3\n",
        "    return theta, phi, lambda_, omega"
      ]
    },
    {
      "cell_type": "markdown",
      "metadata": {
        "id": "FV2LUI6mFlwO"
      },
      "source": [
        "#### Quantum classifier using Hadamard gate"
      ]
    },
    {
      "cell_type": "markdown",
      "metadata": {
        "id": "DisfxFEgFlwO"
      },
      "source": [
        "We apply a Hadamard gate, creating superposition, followed by U3 and RZ gates to encode the mapped quantum features, then we use the library Qiskit Aer by executing qasm_simulator, in order to similate the quantum circuit"
      ]
    },
    {
      "cell_type": "code",
      "execution_count": null,
      "metadata": {
        "id": "qASdDt7YFlwO"
      },
      "outputs": [],
      "source": [
        "# Quantum classifier using Hadamard gates\n",
        "def quantum_classifier_with_hadamard_rotation(sex, pclass, age, embarked):\n",
        "    theta, phi, lambda_, omega = map_classical_to_quantum_features(sex, pclass, age, embarked)\n",
        "\n",
        "    qc = QuantumCircuit(4)  # 4 qubits for the 4 features\n",
        "    qc.h([0, 1, 2, 3])\n",
        "\n",
        "    # We pply parameterized U gates\n",
        "    qc.u(theta, phi, lambda_, 0)  # Qubit 0 for Sex\n",
        "    qc.u(omega, lambda_, phi, 1)  # Qubit 1 for Pclass\n",
        "    qc.u(lambda_, theta, phi, 2)  # Qubit 2 for Age\n",
        "    qc.u(phi, omega, lambda_, 3)  # Qubit 3 for Embarked\n",
        "\n",
        "    qc.measure_all()\n",
        "\n",
        "    backend = Aer.get_backend('qasm_simulator')\n",
        "    compiled_circuit = transpile(qc, backend)\n",
        "    job = backend.run(compiled_circuit, shots=1024)\n",
        "    result = job.result()\n",
        "    counts = result.get_counts()\n",
        "\n",
        "    # Comparison with '0000' and '1111' counts\n",
        "    zero_state_count = sum(counts[state] for state in counts if state.count('1') <= 2)\n",
        "    one_state_count = sum(counts[state] for state in counts if state.count('1') > 2)\n",
        "    return 0 if zero_state_count > one_state_count else 1"
      ]
    },
    {
      "cell_type": "code",
      "execution_count": null,
      "metadata": {
        "id": "Bfil4JoG-ByP",
        "outputId": "8d19b93c-e832-4fc0-b1b7-835c294826c6"
      },
      "outputs": [
        {
          "data": {
            "image/png": "[encoded data removed]",
            "text/plain": [
              "<Figure size 747.609x451.5 with 1 Axes>"
            ]
          },
          "execution_count": 47,
          "metadata": {},
          "output_type": "execute_result"
        }
      ],
      "source": [
        "def visualize_hadamard_quantum_circuit(sex, pclass, age, embarked):\n",
        "    # Map classical features to quantum parameters\n",
        "    theta, phi, lambda_, omega = map_classical_to_quantum_features(sex, pclass, age, embarked)\n",
        "\n",
        "    # Create a quantum circuit with 4 qubits (for 4 features)\n",
        "    qc = QuantumCircuit(4)\n",
        "\n",
        "    # Apply Hadamard gates to all qubits to create superposition\n",
        "    qc.h([0, 1, 2, 3])  # Apply Hadamard gates to each qubit\n",
        "\n",
        "    # Apply parameterized U gates to each qubit based on classical features\n",
        "    qc.u(theta, phi, lambda_, 0)  # Qubit 0 for Sex\n",
        "    qc.u(omega, lambda_, phi, 1)  # Qubit 1 for Pclass\n",
        "    qc.u(lambda_, omega, theta, 2)  # Qubit 2 for Age\n",
        "    qc.u(phi, omega, lambda_, 3)  # Qubit 3 for Embarked\n",
        "\n",
        "    # Measure all qubits\n",
        "    qc.measure_all()\n",
        "\n",
        "    return qc\n",
        "qc_hadamard_visualized = visualize_hadamard_quantum_circuit(0, 1, 25, 2)  # Example inputs\n",
        "qc_hadamard_visualized.draw('mpl')"
      ]
    },
    {
      "cell_type": "markdown",
      "metadata": {
        "id": "8pjv-GIqFlwO"
      },
      "source": [
        "#### Quantum classifier using Entanglement"
      ]
    },
    {
      "cell_type": "markdown",
      "metadata": {
        "id": "RmPKpR41FlwO"
      },
      "source": [
        "In the following code we are using 4 qubits and we are working with entanglement by using the CNOT gate, mainly the classification is done based on the outcome."
      ]
    },
    {
      "cell_type": "code",
      "execution_count": null,
      "metadata": {
        "id": "pg6KPBQpFlwO"
      },
      "outputs": [],
      "source": [
        "def quantum_classifier_with_entanglement(sex, pclass, age, embarked):\n",
        "    theta, phi, lambda_, omega = map_classical_to_quantum_features(sex, pclass, age, embarked)\n",
        "\n",
        "    qc = QuantumCircuit(4)\n",
        "\n",
        "    # We apply parameterized U gates\n",
        "    qc.u(theta, phi, lambda_, 0)  # Qubit 0 for Sex\n",
        "    qc.u(omega, lambda_, phi, 1)  # Qubit 1 for Pclass\n",
        "    qc.u(lambda_, theta, phi, 2)  # Qubit 2 for Age\n",
        "    qc.u(phi, omega, lambda_, 3)  # Qubit 3 for Embarked\n",
        "\n",
        "    # We apply CNOT gates to entangle qubits\n",
        "    qc.cx(0, 1)\n",
        "    qc.cx(1, 2)\n",
        "    qc.cx(2, 3)\n",
        "\n",
        "    qc.measure_all()\n",
        "\n",
        "    backend = Aer.get_backend('qasm_simulator')\n",
        "    compiled_circuit = transpile(qc, backend)\n",
        "    job = backend.run(compiled_circuit, shots=1024)\n",
        "    result = job.result()\n",
        "\n",
        "    counts = result.get_counts()\n",
        "\n",
        "# We classify based on the result\n",
        "    zero_state_count = sum(counts[state] for state in counts if state.count('1') <= 2)\n",
        "    one_state_count = sum(counts[state] for state in counts if state.count('1') > 2)\n",
        "    return 0 if zero_state_count > one_state_count else 1"
      ]
    },
    {
      "cell_type": "code",
      "execution_count": null,
      "metadata": {
        "id": "tYxG1h5g-ByQ",
        "outputId": "92f1bfec-0e42-4cc4-ad48-f7d9a1a7ae0d"
      },
      "outputs": [
        {
          "data": {
            "image/png": "[encoded data removed]",
            "text/plain": [
              "<Figure size 914.831x451.5 with 1 Axes>"
            ]
          },
          "execution_count": 49,
          "metadata": {},
          "output_type": "execute_result"
        }
      ],
      "source": [
        "\n",
        "# Visualization function for entangled quantum circuit (without 'Cabin')\n",
        "def visualize_entangled_quantum_circuit(sex, pclass, age, embarked):\n",
        "    theta, phi, lambda_, omega = map_classical_to_quantum_features(sex, pclass, age, embarked)\n",
        "\n",
        "    qc = QuantumCircuit(4)  # Only 4 qubits now\n",
        "\n",
        "    # Apply parameterized U gates\n",
        "    qc.u(theta, phi, lambda_, 0)  # Qubit 0 for Sex\n",
        "    qc.u(omega, lambda_, phi, 1)  # Qubit 1 for Pclass\n",
        "    qc.u(lambda_, theta, phi, 2)  # Qubit 2 for Age\n",
        "    qc.u(phi, omega, lambda_, 3)  # Qubit 3 for Embarked\n",
        "\n",
        "    # Apply CNOT gates to entangle qubits\n",
        "    qc.cx(0, 1)\n",
        "    qc.cx(1, 2)\n",
        "    qc.cx(2, 3)\n",
        "\n",
        "    # Measure all qubits\n",
        "    qc.measure_all()\n",
        "\n",
        "    return qc\n",
        "\n",
        "qc_entangled_visualized = visualize_entangled_quantum_circuit(0, 1, 25, 2)  # Features: Sex, Pclass, Age, Embarked\n",
        "qc_entangled_visualized.draw('mpl')"
      ]
    },
    {
      "cell_type": "markdown",
      "metadata": {
        "id": "jLmMiBbNFlwO"
      },
      "source": [
        "#### Working with the classifiers and the Dataset"
      ]
    },
    {
      "cell_type": "code",
      "execution_count": null,
      "metadata": {
        "id": "bIsI_4Pb-ByR"
      },
      "outputs": [],
      "source": [
        "from sklearn.model_selection import train_test_split\n",
        "\n",
        "X = df_1[['Sex', 'Pclass', 'Embarked', 'Age']]  # Features\n",
        "y = df_1['Survived']  # Target variable\n",
        "\n",
        "X_train, X_test, y_train, y_test = train_test_split(X, y, test_size=0.2, random_state=42)\n",
        "\n"
      ]
    },
    {
      "cell_type": "code",
      "execution_count": null,
      "metadata": {
        "id": "KzCtROSX-ByR",
        "outputId": "a815b697-461e-40f4-8aea-6ab0e305fc15"
      },
      "outputs": [
        {
          "name": "stdout",
          "output_type": "stream",
          "text": [
            "Hadamard Classifier Results:\n",
            "     Predicted  Actual\n",
            "331          1       0\n",
            "733          1       0\n",
            "382          1       0\n",
            "704          1       0\n",
            "813          1       0\n",
            "118          0       0\n",
            "536          1       0\n",
            "361          1       0\n",
            "29           1       0\n",
            "55           1       1\n",
            "865          1       1\n",
            "595          1       0\n",
            "239          1       0\n",
            "721          1       0\n",
            "81           1       1\n",
            "259          1       1\n",
            "486          0       1\n",
            "716          0       1\n",
            "800          1       0\n",
            "781          0       1\n",
            "542          1       0\n",
            "326          1       0\n",
            "\n",
            "Entangled Classifier Results:\n",
            "     Predicted  Actual\n",
            "331          1       0\n",
            "733          1       0\n",
            "382          0       0\n",
            "704          0       0\n",
            "813          0       0\n",
            "118          0       0\n",
            "536          1       0\n",
            "361          0       0\n",
            "29           0       0\n",
            "55           0       1\n",
            "865          0       1\n",
            "595          0       0\n",
            "239          0       0\n"
          ]
        }
      ],
      "source": [
        "# Initialize result lists for predictions\n",
        "train_results_hadamard = []\n",
        "train_results_entangled = []\n",
        "\n",
        "for index, row in X_train.iterrows():\n",
        "    sex = row['Sex']\n",
        "    pclass = row['Pclass']\n",
        "    age = row['Age']\n",
        "    embarked = row['Embarked']\n",
        "\n",
        "    result_hadamard = quantum_classifier_with_hadamard_rotation(sex, pclass, age, embarked)\n",
        "    train_results_hadamard.append(result_hadamard)\n",
        "\n",
        "    result_entangled = quantum_classifier_with_entanglement(sex, pclass, age, embarked)\n",
        "    train_results_entangled.append(result_entangled)\n",
        "\n",
        "# We compare predictions with actual survival data in the testing set\n",
        "comparison_hadamard = pd.DataFrame({'Predicted': train_results_hadamard, 'Actual': y_train}, index=y_train.index)\n",
        "comparison_entangled = pd.DataFrame({'Predicted': train_results_entangled, 'Actual': y_train}, index=y_train.index)\n",
        "\n",
        "print(\"Hadamard Classifier Results:\")\n",
        "print(comparison_hadamard.head(22))\n",
        "\n",
        "print(\"\\nEntangled Classifier Results:\")\n",
        "print(comparison_entangled.head(13))\n"
      ]
    },
    {
      "cell_type": "code",
      "execution_count": null,
      "metadata": {
        "id": "23urW9l1-ByR",
        "outputId": "0b6d7a94-bd3a-48f4-d507-22ae03b3b6f1"
      },
      "outputs": [
        {
          "name": "stdout",
          "output_type": "stream",
          "text": [
            "Test Accuracy of Hadamard Classifier: 26.26%\n",
            "Test Accuracy of Entangled Classifier: 49.72%\n"
          ]
        }
      ],
      "source": [
        "from sklearn.metrics import accuracy_score\n",
        "\n",
        "# Initialize result lists for predictions on the test set\n",
        "test_results_hadamard = []\n",
        "test_results_entangled = []\n",
        "\n",
        "# Iterate over the test data\n",
        "for index, row in X_test.iterrows():\n",
        "    sex = row['Sex']\n",
        "    pclass = row['Pclass']\n",
        "    age = row['Age']\n",
        "    embarked = row['Embarked']\n",
        "\n",
        "    # Get predictions for the test set using both classifiers\n",
        "    result_hadamard = quantum_classifier_with_hadamard_rotation(sex, pclass, age, embarked)\n",
        "    test_results_hadamard.append(result_hadamard)\n",
        "\n",
        "    result_entangled = quantum_classifier_with_entanglement(sex, pclass, age, embarked)\n",
        "    test_results_entangled.append(result_entangled)\n",
        "\n",
        "# We compare predictions with actual survival data in the testing set\n",
        "comparison_hadamard_test = pd.DataFrame({'Predicted': test_results_hadamard, 'Actual': y_test}, index=y_test.index)\n",
        "comparison_entangled_test = pd.DataFrame({'Predicted': test_results_entangled, 'Actual': y_test}, index=y_test.index)\n",
        "\n",
        "# Calculate accuracy for Hadamard and Entangled classifiers based on test predictions\n",
        "accuracy_hadamard_test = accuracy_score(y_test, test_results_hadamard) * 100\n",
        "accuracy_entangled_test = accuracy_score(y_test, test_results_entangled) * 100\n",
        "\n",
        "# Print test accuracies\n",
        "print(f\"Test Accuracy of Hadamard Classifier: {accuracy_hadamard_test:.2f}%\")\n",
        "print(f\"Test Accuracy of Entangled Classifier: {accuracy_entangled_test:.2f}%\")\n"
      ]
    },
    {
      "cell_type": "code",
      "execution_count": null,
      "metadata": {
        "id": "ykZbUktRFlwO"
      },
      "outputs": [],
      "source": [
        "train_results_hadamard = []\n",
        "train_results_entangled = []\n",
        "\n",
        "for index, row in df_1.iterrows():\n",
        "    sex = row['Sex']\n",
        "    pclass = row['Pclass']\n",
        "    age = row['Age']\n",
        "    embarked = row['Embarked']\n",
        "\n",
        "    result_hadamard = quantum_classifier_with_hadamard_rotation(sex, pclass, age, embarked)\n",
        "    train_results_hadamard.append(result_hadamard)\n",
        "\n",
        "    result_entangled = quantum_classifier_with_entanglement(sex, pclass, age, embarked)\n",
        "    train_results_entangled.append(result_entangled)"
      ]
    },
    {
      "cell_type": "code",
      "execution_count": null,
      "metadata": {
        "id": "6m9YCzO8FlwP",
        "outputId": "035d519c-c71f-4a8e-ca90-84fb7a31adb7"
      },
      "outputs": [
        {
          "name": "stdout",
          "output_type": "stream",
          "text": [
            "Hadamard Classifier Results:\n",
            "   Predicted  Actual\n",
            "0          1       0\n",
            "1          0       1\n",
            "2          1       1\n",
            "\n",
            "Entangled Classifier Results:\n",
            "   Predicted  Actual\n",
            "0          0       0\n",
            "1          0       1\n",
            "2          0       1\n"
          ]
        }
      ],
      "source": [
        "# Compare predictions with actual survival data\n",
        "comparison_hadamard = pd.DataFrame({'Predicted': train_results_hadamard, 'Actual': df_1['Survived']}, index=df_1.index)\n",
        "comparison_entangled = pd.DataFrame({'Predicted': train_results_entangled, 'Actual': df_1['Survived']}, index=df_1.index)\n",
        "\n",
        "print(\"Hadamard Classifier Results:\")\n",
        "print(comparison_hadamard.head(3))\n",
        "\n",
        "print(\"\\nEntangled Classifier Results:\")\n",
        "print(comparison_entangled.head(3))"
      ]
    },
    {
      "cell_type": "markdown",
      "metadata": {
        "id": "wCnHtqZR-ByZ"
      },
      "source": [
        "#### Accuracy of Hadamard Classifier and Entangled Classifier:"
      ]
    },
    {
      "cell_type": "code",
      "execution_count": null,
      "metadata": {
        "id": "jh7zwuOF-ByZ",
        "outputId": "00306813-bd54-4871-f3b0-d010bf7958ba"
      },
      "outputs": [
        {
          "name": "stdout",
          "output_type": "stream",
          "text": [
            "Test Accuracy of Hadamard Classifier: 26.26%\n",
            "Test Accuracy of Entangled Classifier: 49.72%\n"
          ]
        }
      ],
      "source": [
        "# Compare predictions with actual survival data in the testing set\n",
        "comparison_hadamard_test = pd.DataFrame({'Predicted': test_results_hadamard, 'Actual': y_test}, index=y_test.index)\n",
        "comparison_entangled_test = pd.DataFrame({'Predicted': test_results_entangled, 'Actual': y_test}, index=y_test.index)\n",
        "\n",
        "# Calculate accuracy for Hadamard and Entangled classifiers based on test predictions\n",
        "accuracy_hadamard_test = accuracy_score(y_test, test_results_hadamard) * 100\n",
        "accuracy_entangled_test = accuracy_score(y_test, test_results_entangled) * 100\n",
        "\n",
        "# Print test accuracies\n",
        "print(f\"Test Accuracy of Hadamard Classifier: {accuracy_hadamard_test:.2f}%\")\n",
        "print(f\"Test Accuracy of Entangled Classifier: {accuracy_entangled_test:.2f}%\")"
      ]
    },
    {
      "cell_type": "code",
      "execution_count": null,
      "metadata": {
        "id": "GEq9Y64WFlwP"
      },
      "outputs": [],
      "source": [
        "# We reload the code"
      ]
    },
    {
      "cell_type": "code",
      "execution_count": null,
      "metadata": {
        "id": "G5-d76dZFlwP",
        "outputId": "d69dbe6c-15fa-4ac0-ae6d-5fcc194be52e"
      },
      "outputs": [
        {
          "name": "stdout",
          "output_type": "stream",
          "text": [
            "Accuracy of Hadamard Classifier: 27.50%\n",
            "Accuracy of Entangled Classifier: 53.54%\n"
          ]
        }
      ],
      "source": [
        "# Train results\n",
        "train_results_hadamard = []\n",
        "train_results_entangled = []\n",
        "\n",
        "# Assuming train_cleaned is your preprocessed DataFrame\n",
        "df_1 = pd.DataFrame(train_cleaned, columns=['Sex', 'Pclass', 'Embarked', 'Age', 'Survived'])\n",
        "\n",
        "for index, row in df_1.iterrows():\n",
        "    sex = row['Sex']\n",
        "    pclass = row['Pclass']\n",
        "    age = row['Age']\n",
        "    embarked = row['Embarked']\n",
        "\n",
        "    result_hadamard = quantum_classifier_with_hadamard_rotation(sex, pclass, age, embarked)\n",
        "    train_results_hadamard.append(result_hadamard)\n",
        "\n",
        "    result_entangled = quantum_classifier_with_entanglement(sex, pclass, age, embarked)\n",
        "    train_results_entangled.append(result_entangled)\n",
        "\n",
        "# Compare predictions with actual survival data\n",
        "comparison_hadamard = pd.DataFrame({\n",
        "    'Predicted': train_results_hadamard,\n",
        "    'Actual': df_1['Survived']\n",
        "})\n",
        "\n",
        "comparison_entangled = pd.DataFrame({\n",
        "    'Predicted': train_results_entangled,\n",
        "    'Actual': df_1['Survived']\n",
        "})\n",
        "\n",
        "# Calculate accuracy for Hadamard and Entangled classifiers\n",
        "actual_labels = df_1['Survived'].values  # Actual survival data\n",
        "\n",
        "accuracy_hadamard = np.mean(np.array(train_results_hadamard) == actual_labels) * 100\n",
        "accuracy_entangled = np.mean(np.array(train_results_entangled) == actual_labels) * 100\n",
        "\n",
        "# Print accuracies\n",
        "print(f\"Accuracy of Hadamard Classifier: {accuracy_hadamard:.2f}%\")\n",
        "print(f\"Accuracy of Entangled Classifier: {accuracy_entangled:.2f}%\")"
      ]
    },
    {
      "cell_type": "markdown",
      "metadata": {
        "id": "NKfxFcT2FlwP"
      },
      "source": [
        "#### Approach II: Using Variational Quantum Classifier (VQC)"
      ]
    },
    {
      "cell_type": "markdown",
      "metadata": {
        "id": "2wWVa2pkFlwP"
      },
      "source": [
        "VQCs are a versatile tool in quantum machine learning, particularly for supervised learning tasks. However, other methods like quantum kernel methods, QNNs, and QBMs have their strengths and are suitable for different applications. The choice between VQCs and other quantum machine learning methods depends on the specific requirements of the task, the nature of the data, and the available quantum resources. Here we use VQC as a method to train classification model on Quantum Simulator"
      ]
    },
    {
      "cell_type": "markdown",
      "metadata": {
        "id": "UxH_knWbGFm6"
      },
      "source": [
        "#### Approach II: Using Variational Quantum Classifier (VQC)"
      ]
    },
    {
      "cell_type": "markdown",
      "metadata": {
        "id": "iyN91qv3GFm6"
      },
      "source": [
        "VQCs are a versatile tool in quantum machine learning, particularly for supervised learning tasks. However, other methods like quantum kernel methods, QNNs, and QBMs have their strengths and are suitable for different applications. The choice between VQCs and other quantum machine learning methods depends on the specific requirements of the task, the nature of the data, and the available quantum resources. Here we use VQC as a method to train classification model on Quantum Simulator"
      ]
    },
    {
      "cell_type": "code",
      "execution_count": null,
      "metadata": {
        "id": "zvw7E8DcGFm6"
      },
      "outputs": [],
      "source": [
        "from qiskit.circuit.library import ZZFeatureMap, RealAmplitudes\n",
        "from qiskit_algorithms.optimizers import SPSA\n",
        "from qiskit_machine_learning.algorithms import VQC\n",
        "\n",
        "X = train_cleaned[['Sex', 'Pclass', 'Age', 'Embarked']].to_numpy()\n",
        "y = train_cleaned['Survived'].to_numpy()\n",
        "\n",
        "X_train, X_test, y_train, y_test = train_test_split(X, y, test_size=0.2, random_state=42)\n",
        "\n",
        "# Set random seed for reproducibility using numpy\n",
        "np.random.seed(42)"
      ]
    },
    {
      "cell_type": "markdown",
      "metadata": {
        "id": "YMxygmttGFm6"
      },
      "source": [
        "1. Data Encoding with ZZFeatureMap\n",
        " - Purpose: The ZZFeatureMap is responsible for transforming classical input data into a quantum state. Each feature of the data is mapped to a qubit, enabling the quantum circuit to represent the data in a way that can be processed by quantum algorithms.\n",
        "\n",
        " - Encoding Process: Each classical feature (like age, sex, class, etc.) is encoded using rotations that correspond to the value of the feature. Entanglement is created between qubits using controlled-Z gates, which allows the VQC to capture interactions between different features.\n"
      ]
    },
    {
      "cell_type": "code",
      "execution_count": null,
      "metadata": {
        "id": "KG7hFnsnGFm6",
        "outputId": "60bd3775-0456-40ef-a983-f64fffaa79f1"
      },
      "outputs": [
        {
          "data": {
            "image/png": "[encoded data removed]",
            "text/plain": [
              "<Figure size 2210.55x1204 with 1 Axes>"
            ]
          },
          "execution_count": 58,
          "metadata": {},
          "output_type": "execute_result"
        }
      ],
      "source": [
        "# Feature Mapping with ZZFeatureMap\n",
        "feature_map = ZZFeatureMap(feature_dimension=X_train.shape[1], reps=2)\n",
        "\n",
        "# Draw the feature map circuit\n",
        "feature_map.decompose().draw('mpl')"
      ]
    },
    {
      "cell_type": "markdown",
      "metadata": {
        "id": "SF0bMV1dGFm6"
      },
      "source": [
        "2. Variational Circuit with RealAmplitudes\n",
        " - Purpose: The RealAmplitudes ansatz acts as the variational circuit that takes the encoded quantum state (from the feature map) and processes it to produce a classification result. This circuit contains adjustable parameters that can be optimized.\n",
        "\n",
        " - Structure:After the feature map has prepared the state, the RealAmplitudes circuit is applied. It consists of parameterized single-qubit rotations and entangling gates.\n",
        "The parameters of this circuit are adjusted during training to minimize the classification error, allowing the model to learn from the data."
      ]
    },
    {
      "cell_type": "code",
      "execution_count": null,
      "metadata": {
        "id": "M2TyzqHGGFm6",
        "outputId": "3ba4878c-b0e9-41f3-bf74-b73eeb006c72"
      },
      "outputs": [
        {
          "data": {
            "image/png": "[encoded data removed]",
            "text/plain": [
              "<Figure size 789.163x367.889 with 1 Axes>"
            ]
          },
          "execution_count": 59,
          "metadata": {},
          "output_type": "execute_result"
        }
      ],
      "source": [
        "# Define the variational circuit (ansatz)\n",
        "ansatz = RealAmplitudes(num_qubits=X_train.shape[1], reps=2)\n",
        "\n",
        "#Draw the ansatz circuit\n",
        "ansatz.decompose().draw('mpl')"
      ]
    },
    {
      "cell_type": "markdown",
      "metadata": {
        "id": "jErBUDLiGFm7"
      },
      "source": [
        "3. Training Process\n",
        "- Combining the Components:\n",
        "    - When training the VQC, the process typically follows these steps:\n",
        "        1. Data Preparation: The classical data is first preprocessed and then normalized.\n",
        "        2. Feature Mapping: The ZZFeatureMap encodes the data into a quantum state.\n",
        "        3. Circuit Execution: The RealAmplitudes circuit processes the encoded state. The output of the circuit is then measured.\n",
        "        4. Parameter Optimization: The output probabilities are compared to the actual class labels, and a loss function (such as cross-entropy) is calculated. The parameters of the RealAmplitudes circuit are optimized using classical optimization techniques (like SPSA or gradient descent)."
      ]
    },
    {
      "cell_type": "code",
      "execution_count": null,
      "metadata": {
        "id": "mFFQ3Nl1GFm7",
        "outputId": "68972333-415c-4a2d-8dee-aa6381d5907e"
      },
      "outputs": [
        {
          "data": {
            "image/png": "[encoded data removed]",
            "text/plain": [
              "<Figure size 956.385x367.889 with 1 Axes>"
            ]
          },
          "execution_count": 60,
          "metadata": {},
          "output_type": "execute_result"
        }
      ],
      "source": [
        "# SPSA optimizer for the VQC\n",
        "optimizer = SPSA(maxiter=100)\n",
        "\n",
        "# VQC model\n",
        "vqc = VQC(feature_map=feature_map, ansatz=ansatz, optimizer=optimizer)\n",
        "\n",
        "# Model Training\n",
        "vqc.fit(X_train, y_train)\n",
        "\n",
        "#Complete Training Circuit\n",
        "circuit = vqc.circuit\n",
        "circuit.draw('mpl')"
      ]
    },
    {
      "cell_type": "markdown",
      "metadata": {
        "id": "wLXCrqCtGFm7"
      },
      "source": [
        "- Prediction:\n",
        "    - Once trained, the VQC can take new data, encode it with the ZZFeatureMap, and run the RealAmplitudes circuit to make predictions about the class labels."
      ]
    },
    {
      "cell_type": "code",
      "execution_count": null,
      "metadata": {
        "id": "JUkETkemGFm7",
        "outputId": "10ce7401-ef9f-4ac2-d2a2-3f4fd5beb1ba"
      },
      "outputs": [
        {
          "name": "stdout",
          "output_type": "stream",
          "text": [
            "Predictions: [0 0 0 1 0 1 0 0 0 1 0 0 0 0 0 1 1 0 0 1 0 0 0 0 0 0 0 0 0 1 0 0 0 0 0 0 0\n",
            " 0 1 0 0 0 0 0 0 0 0 0 0 0 0 1 0 0 1 1 0 1 1 0 0 0 1 0 0 0 0 0 0 1 1 1 0 1\n",
            " 0 0 0 1 1 1 0 1 1 0 0 0 1 1 1 0 0 0 0 0 0 0 1 0 1 0 0 0 1 0 0 0 1 1 0 0 1\n",
            " 0 1 0 0 0 0 0 1 1 0 1 1 1 0 0 1 0 0 0 0 0 0 0 0 0 1 0 0 0 0 1 0 0 0 1 0 0\n",
            " 1 0 0 0 0 0 0 0 0 0 1 0 0 0 0 1 0 0 0 1 0 0 0 1 0 1 0 0 1 1 0]\n",
            "Actual: [1 0 0 1 1 1 1 0 1 1 0 0 0 0 0 1 1 1 0 0 0 1 1 0 0 0 0 1 0 0 0 1 0 0 1 0 1\n",
            " 1 1 0 0 0 0 0 0 0 0 0 0 0 1 1 0 1 0 1 0 1 1 1 0 1 1 0 0 0 0 0 0 1 0 1 1 1\n",
            " 0 0 0 1 0 0 0 1 1 0 0 0 1 1 0 0 1 0 0 0 0 0 1 1 1 0 0 0 1 0 0 0 1 0 1 1 1\n",
            " 0 1 1 0 0 0 0 1 0 0 1 1 1 0 1 1 0 0 0 1 1 0 1 1 1 1 0 0 0 0 0 0 0 0 1 0 0\n",
            " 1 0 0 0 0 1 0 0 1 1 1 0 0 1 0 1 0 0 0 1 0 0 1 1 1 0 0 0 1 1 1]\n"
          ]
        }
      ],
      "source": [
        "# Evaluate the model (Here we test with the training data for simplicity)\n",
        "y_pred = vqc.predict(X_test)\n",
        "\n",
        "# Print predictions and actual values\n",
        "print(\"Predictions:\", y_pred)\n",
        "print(\"Actual:\", y_test)"
      ]
    },
    {
      "cell_type": "code",
      "execution_count": null,
      "metadata": {
        "id": "WZpIo9NEGFm7",
        "outputId": "39ebfb67-ff2b-4956-9121-f2d90ea1dac2"
      },
      "outputs": [
        {
          "name": "stdout",
          "output_type": "stream",
          "text": [
            "Accuracy: 0.7430\n",
            "Precision: 0.7800\n",
            "Recall: 0.5270\n",
            "Specificity: 0.8952\n",
            "Negative Predictive Value (NPV): 0.7287\n",
            "Confusion Matrix:\n",
            "[[94 11]\n",
            " [35 39]]\n"
          ]
        }
      ],
      "source": [
        "#Evaluate the model\n",
        "\n",
        "from sklearn.metrics import confusion_matrix, precision_score, recall_score, accuracy_score\n",
        "\n",
        "#Confusion Matrix\n",
        "conf_matrix = confusion_matrix(y_test, y_pred)\n",
        "\n",
        "#Accuracy, Precision, and Recall\n",
        "specificity, npv = specificity_npv(conf_matrix)\n",
        "\n",
        "#Precision\n",
        "precision = precision_score(y_test, y_pred)\n",
        "\n",
        "#Recall\n",
        "recall = recall_score(y_test, y_pred)\n",
        "\n",
        "#Accuracy\n",
        "accuracy = accuracy_score(y_test, y_pred)\n",
        "\n",
        "#Print the results\n",
        "print(f\"Accuracy: {accuracy:.4f}\")\n",
        "print(f\"Precision: {precision:.4f}\")\n",
        "print(f\"Recall: {recall:.4f}\")\n",
        "print(f\"Specificity: {specificity:.4f}\")\n",
        "print(f\"Negative Predictive Value (NPV): {npv:.4f}\")\n",
        "\n",
        "print(f\"Confusion Matrix:\\n{conf_matrix}\")\n"
      ]
    },
    {
      "cell_type": "markdown",
      "metadata": {
        "id": "0Lgdp2fEGFm8"
      },
      "source": [
        "## Phase III:  Naive Bayes in Classical and Quantum Methods"
      ]
    },
    {
      "cell_type": "code",
      "execution_count": null,
      "metadata": {
        "id": "vyiKUT_qGFm8"
      },
      "outputs": [],
      "source": [
        "from sklearn.naive_bayes import GaussianNB\n",
        "import pandas as pd\n",
        "import matplotlib.pyplot as plt"
      ]
    },
    {
      "cell_type": "markdown",
      "metadata": {
        "id": "M_lwM0glGFm8"
      },
      "source": [
        "#### Implementing Naive Bayes in a classical setting"
      ]
    },
    {
      "cell_type": "markdown",
      "source": [
        "\n",
        "Classical implementation of Naive Bayes is completed in the Phase I and results can be found at the end of it."
      ],
      "metadata": {
        "id": "FncA51Wh_HkB"
      }
    },
    {
      "cell_type": "markdown",
      "metadata": {
        "id": "0oK2W4DKGFm8"
      },
      "source": [
        "#### Translating the Naive Bayes algorithm to a quantum framework"
      ]
    },
    {
      "cell_type": "markdown",
      "metadata": {
        "id": "HybRtOk3GFm8"
      },
      "source": [
        "Creating the Mapping and Variational Circuit"
      ]
    },
    {
      "cell_type": "code",
      "execution_count": null,
      "metadata": {
        "id": "FB19bnn-GFm8"
      },
      "outputs": [],
      "source": [
        "# Define a quantum circuit with 4 qubits (as the data has 4 features)\n",
        "def apply_feature_map_and_variational_circuit(qc, x, theta_value):\n",
        "    for i in range(4):\n",
        "        qc.ry(x[i], i)  # Use the data values for Ry rotations\n",
        "\n",
        "    # Apply CNOT gates for entanglement\n",
        "    qc.cx(0, 1)\n",
        "    qc.cx(1, 2)\n",
        "    qc.cx(2, 3)\n",
        "    qc.cx(3, 4)\n",
        "\n",
        "    # Apply a variational layer (fixed parameter for demonstration)\n",
        "    for i in range(4):\n",
        "        qc.ry(theta_value, i)"
      ]
    },
    {
      "cell_type": "markdown",
      "metadata": {
        "id": "sc-s3ZJAGFm8"
      },
      "source": [
        "Function to Classify using Measurement and Counts"
      ]
    },
    {
      "cell_type": "code",
      "execution_count": null,
      "metadata": {
        "id": "jp4MUZn_GFm9"
      },
      "outputs": [],
      "source": [
        "# Function to classify data points using the quantum circuit\n",
        "def classify(data, theta_value):\n",
        "    backend = Aer.get_backend('qasm_simulator')\n",
        "    results = []\n",
        "\n",
        "    for x in data:\n",
        "        # Create a fresh quantum circuit for each data point\n",
        "        qc_copy = QuantumCircuit(5, 1)  # 5 qubits and 1 classical bit\n",
        "\n",
        "        # Apply feature map and variational circuit\n",
        "        apply_feature_map_and_variational_circuit(qc_copy, x, theta_value)\n",
        "\n",
        "        # Measure the first qubit\n",
        "        qc_copy.measure(0, 0)\n",
        "\n",
        "        # Transpile the circuit for the backend\n",
        "        compiled_circuit = transpile(qc_copy, backend)\n",
        "\n",
        "        # Run the circuit and get results\n",
        "        job = backend.run(compiled_circuit, shots=1024)\n",
        "        result = job.result()\n",
        "        counts = result.get_counts()\n",
        "\n",
        "        # Append the probability of measuring '1'\n",
        "        results.append(counts.get('1', 0) / 1024)\n",
        "\n",
        "    return np.array(results)"
      ]
    },
    {
      "cell_type": "markdown",
      "metadata": {
        "id": "9OVyaB5WGFm9"
      },
      "source": [
        "Using the Output Values of Variational Circuit to classify in Naive Bayes Classical Classifier"
      ]
    },
    {
      "cell_type": "code",
      "execution_count": null,
      "metadata": {
        "id": "cLDh6IJJGFm9",
        "outputId": "892ea67b-f7c5-4166-8dea-a8dafc1158c4"
      },
      "outputs": [
        {
          "name": "stdout",
          "output_type": "stream",
          "text": [
            "[0 0 0 0 1 0 0 0 0 0 1 0 0 0 0 1 1 1 0 1 1 0 1 1 1 0 1 0 0 0 0 0 0 1 0 1 0\n",
            " 1 0 1 0 0 1 0 0 0 1 0 0 1 1 0 1 0 1 0 1 1 1 1 0 0 1 0 1 0 0 0 0 0 0 1 0 0\n",
            " 0 0 0 0 1 0 1 1 0 1 0 0 0 0 0 0 0 1 0 0 0 1 0 0 0 1 0 0 0 1 0 0 0 1 0 0 0\n",
            " 0 0 1 1 0 0 0 0 0 1 1 0 0 0 0 0 0 1 0 0 0 1 0 0 0 1 1 1 0 1 0 0 0 0 1 1 0\n",
            " 1 1 0 0 0 1 0 0 0 1 1 0 0 0 0 0 0 0 0 1 0 0 0 1 0 0 0 1 0 0 0 0 0 1 1 1 0\n",
            " 1 1 0 0 0 0 1 0 0 0 0 0 1 1 1 0 1 1 1 1 0 0 0 0 0 1 1 1 1 1 1 1 0 0 0 1 1\n",
            " 0 1 0 1 1 1 0 1 1 0 0 1 1 0 1 1 0 0 0 1 0 0 0 0 0 1 0 1 1 1 0 1 0 0 0 0 0\n",
            " 0 0 1 0 0 0 0 0 0 1 0 0 0 0 1 0 0 0 0 0 0 0 0 0 1 0 0 0 0 0 1 1 1 0 0 1 1\n",
            " 1 0 1 1 0 1 1 1 0 0 0 0 1 1 0 1 0 0 0 1 0 0 0 0 1 1 0 0 1 0 0 0 0 1 0 1 0\n",
            " 0 0 0 0 1 1 0 1 0 0 1 1 0 0 0 0 1 0 0 0 0 0 0 0 0 1 0 0 1 1 0 1 1 0 0 1 0\n",
            " 0 1 1 0 1 0 1 0 1 0 0 0 0 0 0 1 0 0 1 0 0 0 0 0 0 1 0 0 1 0 0 1 1 0 0 1 1\n",
            " 0 0 1 0 0 0 1 0 0 0 0 0 0 1 0 1 0 0 1 0 1 1 1 0 0 0 0 1 1 0 0 0 0 1 0 1 0\n",
            " 0 0 1 1 0 0 0 0 0 0 1 0 0 0 0 0 0 1 1 1 1 1 0 0 0 1 1 1 0 0 0 0 0 1 1 0 0\n",
            " 0 1 0 1 0 0 1 0 0 0 0 1 1 0 1 0 0 0 0 1 0 0 1 0 0 0 0 0 1 0 0 0 0 0 0 1 1\n",
            " 1 0 0 1 0 0 0 0 1 1 0 0 0 0 0 0 0 0 1 1 0 1 1 0 0 0 0 0 1 0 1 1 0 0 0 0 1\n",
            " 0 0 0 0 1 0 0 0 0 0 0 1 1 1 0 1 0 0 1 1 1 0 1 1 1 0 0 0 0 1 0 0 0 0 0 0 0\n",
            " 1 0 0 0 0 1 0 1 0 1 1 1 0 0 0 1 1 1 1 0 0 0 0 0 1 1 0 0 1 1 0 1 0 1 0 1 0\n",
            " 0 0 0 1 1 0 0 0 1 0 0 0 1 0 1 0 0 1 1 0 1 0 1 1 1 0 1 0 0 0 0 0 1 0 0 0 0\n",
            " 0 0 0 0 0 0 0 1 1 0 1 0 0 0 0 0 1 0 0 0 0 0 0 0 0 0 0 0 1 0 0 0 1 1 0 0 0\n",
            " 0 0 1 1 1 0 0 1 0]\n"
          ]
        }
      ],
      "source": [
        "# Train the model (using Naive Bayes classification)\n",
        "theta_value = np.pi / 4  # Example parameter value\n",
        "predictions = classify(X_train, theta_value)\n",
        "\n",
        "# Use Naive Bayes to classify based on the quantum circuit outputs\n",
        "nb_classifier = GaussianNB()\n",
        "nb_classifier.fit(predictions.reshape(-1, 1), y_train)\n",
        "nb_predictions = nb_classifier.predict(predictions.reshape(-1, 1))\n",
        "\n",
        "# Print the predictions\n",
        "print(nb_predictions)"
      ]
    },
    {
      "cell_type": "code",
      "execution_count": null,
      "metadata": {
        "id": "TOEzO1yfGFm9",
        "outputId": "444eaeac-afce-4516-94ce-5a8dfea252b5"
      },
      "outputs": [
        {
          "name": "stdout",
          "output_type": "stream",
          "text": [
            "Accuracy: 78.79%\n",
            "Label-Prediction Pairs:\n",
            "[(0, 0), (0, 0), (0, 0), (0, 0), (0, 1), (0, 0), (0, 0), (0, 0), (0, 0), (1, 0), (1, 1), (0, 0), (0, 0), (0, 0), (1, 0), (1, 1), (1, 1), (1, 1), (0, 0), (1, 1), (0, 1), (0, 0), (0, 1), (1, 1), (1, 1), (1, 0), (1, 1), (0, 0), (1, 0), (0, 0), (0, 0), (0, 0), (0, 0), (1, 1), (0, 0), (0, 1), (0, 0), (1, 1), (0, 0), (1, 1), (0, 0), (0, 0), (0, 1), (0, 0), (1, 0), (0, 0), (1, 1), (0, 0), (1, 0), (1, 1), (1, 1), (0, 0), (1, 1), (0, 0), (1, 1), (0, 0), (1, 1), (1, 1), (1, 1), (1, 1), (0, 0), (0, 0), (1, 1), (0, 0), (0, 1), (0, 0), (0, 0), (0, 0), (0, 0), (0, 0), (1, 0), (1, 1), (0, 0), (0, 0), (0, 0), (1, 0), (1, 0), (0, 0), (1, 1), (0, 0), (1, 1), (1, 1), (0, 0), (1, 1), (1, 0), (0, 0), (0, 0), (0, 0), (1, 0), (1, 0), (0, 0), (1, 1), (0, 0), (0, 0), (0, 0), (1, 1), (0, 0), (0, 0), (0, 0), (1, 1), (0, 0), (0, 0), (0, 0), (1, 1), (0, 0), (0, 0), (0, 0), (1, 1), (0, 0), (1, 0), (1, 0), (0, 0), (0, 0), (1, 1), (0, 1), (0, 0), (0, 0), (0, 0), (0, 0), (0, 0), (0, 1), (1, 1), (1, 0), (0, 0), (0, 0), (1, 0), (1, 0), (0, 0), (0, 1), (0, 0), (0, 0), (0, 0), (0, 1), (1, 0), (0, 0), (0, 0), (1, 1), (1, 1), (1, 1), (1, 0), (0, 1), (0, 0), (1, 0), (0, 0), (0, 0), (1, 1), (0, 1), (1, 0), (0, 1), (0, 1), (0, 0), (0, 0), (0, 0), (0, 1), (0, 0), (0, 0), (0, 0), (1, 1), (1, 1), (0, 0), (0, 0), (0, 0), (0, 0), (0, 0), (1, 0), (0, 0), (0, 0), (1, 1), (0, 0), (1, 0), (1, 0), (1, 1), (1, 0), (0, 0), (0, 0), (0, 1), (0, 0), (1, 0), (1, 0), (0, 0), (1, 0), (0, 1), (1, 1), (0, 1), (0, 0), (0, 1), (1, 1), (0, 0), (0, 0), (0, 0), (0, 0), (1, 1), (0, 0), (1, 0), (1, 0), (0, 0), (0, 0), (1, 1), (1, 1), (1, 1), (0, 0), (1, 1), (0, 1), (1, 1), (1, 1), (0, 0), (0, 0), (0, 0), (0, 0), (0, 0), (0, 1), (0, 1), (1, 1), (1, 1), (1, 1), (1, 1), (1, 1), (0, 0), (0, 0), (0, 0), (1, 1), (1, 1), (0, 0), (1, 1), (0, 0), (1, 1), (1, 1), (1, 1), (0, 0), (1, 1), (0, 1), (0, 0), (0, 0), (1, 1), (1, 1), (0, 0), (1, 1), (1, 1), (0, 0), (0, 0), (0, 0), (1, 1), (0, 0), (1, 0), (0, 0), (0, 0), (0, 0), (1, 1), (0, 0), (1, 1), (1, 1), (1, 1), (0, 0), (1, 1), (0, 0), (0, 0), (0, 0), (0, 0), (0, 0), (0, 0), (0, 0), (1, 1), (0, 0), (0, 0), (1, 0), (0, 0), (0, 0), (0, 0), (1, 1), (0, 0), (0, 0), (1, 0), (0, 0), (1, 1), (0, 0), (0, 0), (0, 0), (0, 0), (1, 0), (0, 0), (0, 0), (0, 0), (0, 0), (1, 1), (0, 0), (0, 0), (1, 0), (0, 0), (0, 0), (1, 1), (1, 1), (1, 1), (0, 0), (0, 0), (0, 1), (1, 1), (1, 1), (0, 0), (1, 1), (1, 1), (0, 0), (1, 1), (0, 1), (1, 1), (0, 0), (0, 0), (0, 0), (0, 0), (1, 1), (1, 1), (1, 0), (1, 1), (0, 0), (1, 0), (1, 0), (1, 1), (0, 0), (0, 0), (0, 0), (0, 0), (0, 1), (1, 1), (0, 0), (0, 0), (0, 1), (0, 0), (0, 0), (0, 0), (0, 0), (1, 1), (0, 0), (1, 1), (0, 0), (0, 0), (0, 0), (0, 0), (0, 0), (1, 1), (1, 1), (0, 0), (1, 1), (0, 0), (0, 0), (1, 1), (0, 1), (1, 0), (0, 0), (1, 0), (0, 0), (0, 1), (0, 0), (0, 0), (1, 0), (0, 0), (0, 0), (0, 0), (0, 0), (0, 0), (1, 1), (1, 0), (1, 0), (1, 1), (1, 1), (0, 0), (1, 1), (1, 1), (0, 0), (1, 0), (0, 1), (1, 0), (1, 0), (0, 1), (1, 1), (0, 0), (1, 1), (0, 0), (1, 1), (0, 0), (0, 1), (0, 0), (0, 0), (0, 0), (0, 0), (0, 0), (0, 0), (1, 1), (0, 0), (0, 0), (0, 1), (0, 0), (1, 0), (0, 0), (0, 0), (0, 0), (0, 0), (1, 1), (0, 0), (0, 0), (0, 1), (0, 0), (1, 0), (0, 1), (1, 1), (0, 0), (0, 0), (1, 1), (1, 1), (0, 0), (0, 0), (0, 1), (0, 0), (0, 0), (1, 0), (0, 1), (0, 0), (1, 0), (0, 0), (0, 0), (0, 0), (0, 0), (0, 1), (1, 0), (1, 1), (0, 0), (0, 0), (0, 1), (0, 0), (0, 1), (1, 1), (1, 1), (0, 0), (1, 0), (1, 0), (0, 0), (1, 1), (1, 1), (0, 0), (1, 0), (0, 0), (0, 0), (1, 1), (0, 0), (1, 1), (0, 0), (0, 0), (0, 0), (0, 1), (0, 1), (1, 0), (0, 0), (0, 0), (0, 0), (1, 0), (0, 0), (0, 1), (1, 0), (0, 0), (0, 0), (0, 0), (1, 0), (0, 0), (1, 1), (1, 1), (1, 1), (1, 1), (1, 1), (0, 0), (0, 0), (0, 0), (1, 1), (1, 1), (0, 1), (1, 0), (0, 0), (1, 0), (0, 0), (0, 0), (0, 1), (0, 1), (1, 0), (0, 0), (0, 0), (0, 1), (0, 0), (1, 1), (0, 0), (0, 0), (1, 1), (0, 0), (0, 0), (0, 0), (0, 0), (1, 1), (0, 1), (0, 0), (0, 1), (1, 0), (1, 0), (0, 0), (0, 0), (1, 1), (0, 0), (0, 0), (1, 1), (1, 0), (0, 0), (0, 0), (0, 0), (1, 0), (1, 1), (0, 0), (0, 0), (0, 0), (0, 0), (0, 0), (0, 0), (1, 1), (1, 1), (1, 1), (1, 0), (0, 0), (1, 1), (0, 0), (1, 0), (0, 0), (0, 0), (1, 1), (1, 1), (0, 0), (0, 0), (0, 0), (0, 0), (1, 0), (0, 0), (0, 0), (1, 0), (1, 1), (1, 1), (0, 0), (1, 1), (1, 1), (0, 0), (0, 0), (0, 0), (0, 0), (0, 0), (1, 1), (0, 0), (0, 1), (1, 1), (1, 0), (1, 0), (0, 0), (0, 0), (0, 1), (0, 0), (1, 0), (1, 0), (1, 0), (1, 1), (0, 0), (0, 0), (0, 0), (0, 0), (0, 0), (0, 0), (0, 1), (1, 1), (1, 1), (0, 0), (1, 1), (0, 0), (0, 0), (1, 1), (1, 1), (1, 1), (0, 0), (0, 1), (1, 1), (1, 1), (0, 0), (0, 0), (0, 0), (0, 0), (1, 1), (1, 0), (0, 0), (1, 0), (0, 0), (0, 0), (1, 0), (0, 0), (0, 1), (0, 0), (0, 0), (0, 0), (1, 0), (1, 1), (0, 0), (1, 1), (0, 0), (0, 1), (1, 1), (0, 1), (0, 0), (0, 0), (1, 0), (1, 1), (1, 1), (1, 1), (1, 1), (0, 0), (0, 0), (1, 0), (0, 0), (1, 0), (0, 1), (1, 1), (0, 0), (1, 0), (1, 1), (1, 1), (0, 0), (1, 1), (0, 0), (0, 1), (0, 0), (0, 1), (0, 0), (0, 0), (0, 0), (0, 0), (1, 1), (1, 1), (0, 0), (0, 0), (0, 0), (0, 1), (0, 0), (0, 0), (0, 0), (1, 1), (0, 0), (1, 1), (0, 0), (0, 0), (0, 1), (1, 1), (0, 0), (1, 1), (0, 0), (1, 1), (1, 1), (1, 1), (0, 0), (1, 1), (0, 0), (0, 0), (0, 0), (1, 0), (0, 0), (1, 1), (1, 0), (0, 0), (0, 0), (0, 0), (0, 0), (0, 0), (0, 0), (0, 0), (0, 0), (1, 0), (1, 0), (1, 1), (0, 1), (0, 0), (1, 1), (0, 0), (1, 0), (0, 0), (0, 0), (0, 0), (0, 1), (0, 0), (0, 0), (0, 0), (0, 0), (0, 0), (0, 0), (0, 0), (0, 0), (0, 0), (0, 0), (0, 0), (1, 1), (0, 0), (0, 0), (0, 0), (1, 1), (1, 1), (0, 0), (0, 0), (0, 0), (0, 0), (0, 0), (1, 1), (0, 1), (1, 1), (0, 0), (0, 0), (1, 1), (0, 0)]\n",
            "Confusion Matrix:\n",
            "[[380.  64.]\n",
            " [ 87. 181.]]\n"
          ]
        }
      ],
      "source": [
        "# Evaluate the model\n",
        "accuracy = np.mean(nb_predictions == y_train)\n",
        "print(f'Accuracy: {accuracy * 100:.2f}%')\n",
        "\n",
        "# Include both the label and prediction values as pairs\n",
        "label_prediction_pairs = [(y_train[i].item(), nb_predictions[i].item()) for i in range(len(y_train))]\n",
        "print(\"Label-Prediction Pairs:\")\n",
        "print(label_prediction_pairs)\n",
        "\n",
        "# Calculate the confusion matrix\n",
        "confusion_matrix = np.zeros((2, 2))\n",
        "for label, prediction in label_prediction_pairs:\n",
        "    confusion_matrix[label][prediction] += 1\n",
        "\n",
        "# Display the confusion matrix\n",
        "print(\"Confusion Matrix:\")\n",
        "print(confusion_matrix)"
      ]
    },
    {
      "cell_type": "markdown",
      "metadata": {
        "id": "i6zP-2dDGFm9"
      },
      "source": [
        "#### Comparing the results and performance of both methods"
      ]
    },
    {
      "cell_type": "markdown",
      "source": [
        "Comparing the results of both Classical and Quantum Naive Bayes Classifiers we have a simliar accuracy with 78.79% which indicates the accuracy of the model."
      ],
      "metadata": {
        "id": "YlQbzIM7-4Mh"
      }
    },
    {
      "cell_type": "code",
      "source": [],
      "metadata": {
        "id": "mdAkyz2B-6eA"
      },
      "execution_count": null,
      "outputs": []
    }
  ],
  "metadata": {
    "kernelspec": {
      "display_name": "Python 3 (ipykernel)",
      "language": "python",
      "name": "python3"
    },
    "language_info": {
      "codemirror_mode": {
        "name": "ipython",
        "version": 3
      },
      "file_extension": ".py",
      "mimetype": "text/x-python",
      "name": "python",
      "nbconvert_exporter": "python",
      "pygments_lexer": "ipython3",
      "version": "3.12.3"
    },
    "colab": {
      "provenance": []
    }
  },
  "nbformat": 4,
  "nbformat_minor": 0
}